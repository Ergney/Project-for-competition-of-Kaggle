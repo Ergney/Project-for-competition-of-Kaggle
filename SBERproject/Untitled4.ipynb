{
 "cells": [
  {
   "cell_type": "code",
   "execution_count": 227,
   "id": "12617a03",
   "metadata": {},
   "outputs": [],
   "source": [
    "import pandas as pd\n",
    "import numpy as np"
   ]
  },
  {
   "cell_type": "code",
   "execution_count": 235,
   "id": "ed17ccfd",
   "metadata": {},
   "outputs": [],
   "source": [
    "df = pd.read_csv(\"full_data.csv\")\n",
    "target = pd.read_csv(\"C://Users//Ergney//Downloads//data//sample_submission.csv\")"
   ]
  },
  {
   "cell_type": "code",
   "execution_count": 236,
   "id": "1e3aa418",
   "metadata": {},
   "outputs": [],
   "source": [
    "df = df.drop(columns=[\"Unnamed: 0\", \"target\"])\n",
    "df = pd.merge(df, target, on='id', how='inner')"
   ]
  },
  {
   "cell_type": "code",
   "execution_count": 237,
   "id": "db6e878c",
   "metadata": {},
   "outputs": [
    {
     "name": "stdout",
     "output_type": "stream",
     "text": [
      "<class 'pandas.core.frame.DataFrame'>\n",
      "Int64Index: 790449 entries, 0 to 790448\n",
      "Data columns (total 24 columns):\n",
      " #   Column                    Non-Null Count   Dtype  \n",
      "---  ------                    --------------   -----  \n",
      " 0   id                        790449 non-null  object \n",
      " 1   buy_in_this_m             790449 non-null  int64  \n",
      " 2   buy_in_this_q             790449 non-null  int64  \n",
      " 3   buy_in_this_y             790449 non-null  int64  \n",
      " 4   buy_in_this_3y            790449 non-null  int64  \n",
      " 5   buy_all                   790449 non-null  int64  \n",
      " 6   last_buy                  790449 non-null  int64  \n",
      " 7   c_buy_in_this_m           790449 non-null  int64  \n",
      " 8   c_buy_in_this_q           790449 non-null  int64  \n",
      " 9   c_buy_in_this_y           790449 non-null  int64  \n",
      " 10  c_buy_in_this_3y          790449 non-null  int64  \n",
      " 11  c_by_all                  790449 non-null  int64  \n",
      " 12  c_last_buy                790449 non-null  int64  \n",
      " 13  share_category            790449 non-null  float64\n",
      " 14  share_category_in_this_y  790449 non-null  float64\n",
      " 15  share_category_in_this_q  790449 non-null  float64\n",
      " 16  share_category_in_this_m  790449 non-null  float64\n",
      " 17  interest_category_in_m    790449 non-null  float64\n",
      " 18  interest_category_in_q    790449 non-null  float64\n",
      " 19  interest_category_in_y    790449 non-null  float64\n",
      " 20  interest_buy_y            790449 non-null  float64\n",
      " 21  interest_buy_q            790449 non-null  float64\n",
      " 22  interest_buy_m            790449 non-null  float64\n",
      " 23  target                    790449 non-null  int64  \n",
      "dtypes: float64(10), int64(13), object(1)\n",
      "memory usage: 150.8+ MB\n"
     ]
    }
   ],
   "source": [
    "df.info()"
   ]
  },
  {
   "cell_type": "code",
   "execution_count": 238,
   "id": "5b7a2d15",
   "metadata": {},
   "outputs": [
    {
     "data": {
      "text/plain": [
       "0.5510204081632653"
      ]
     },
     "execution_count": 238,
     "metadata": {},
     "output_type": "execute_result"
    }
   ],
   "source": [
    "df['target'].loc[(df['c_buy_in_this_m'] > 10) & (df['c_buy_in_this_m'] < 30)].mean()"
   ]
  },
  {
   "cell_type": "code",
   "execution_count": 239,
   "id": "850fb7ef",
   "metadata": {},
   "outputs": [
    {
     "data": {
      "text/plain": [
       "0.5714285714285714"
      ]
     },
     "execution_count": 239,
     "metadata": {},
     "output_type": "execute_result"
    }
   ],
   "source": [
    "df['target'].loc[(df['c_buy_in_this_m'] > 10) & (df['c_buy_in_this_m'] < 15)].mean()"
   ]
  },
  {
   "cell_type": "code",
   "execution_count": 240,
   "id": "e23759f6",
   "metadata": {},
   "outputs": [
    {
     "data": {
      "text/plain": [
       "0.5117739403453689"
      ]
     },
     "execution_count": 240,
     "metadata": {},
     "output_type": "execute_result"
    }
   ],
   "source": [
    "df['target'].loc[(df['c_buy_in_this_m'] > 5) & (df['c_buy_in_this_m'] < 15)].mean()"
   ]
  },
  {
   "cell_type": "code",
   "execution_count": 241,
   "id": "d74f7be4",
   "metadata": {},
   "outputs": [
    {
     "data": {
      "text/plain": [
       "0.501455286327585"
      ]
     },
     "execution_count": 241,
     "metadata": {},
     "output_type": "execute_result"
    }
   ],
   "source": [
    "df['target'].loc[(df['c_buy_in_this_m'] > 2) & (df['c_buy_in_this_m'] < 10)].mean()"
   ]
  },
  {
   "cell_type": "code",
   "execution_count": 242,
   "id": "314d921c",
   "metadata": {},
   "outputs": [],
   "source": [
    "df.loc[(df['c_buy_in_this_m'] != 0), \"buy_category_in_mounth\"] = 1\n",
    "df[\"buy_category_in_mounth\"] = df[\"buy_category_in_mounth\"].fillna(0)\n",
    "df.loc[(df['c_buy_in_this_q'] != 0), \"buy_category_in_quarter\"] = 1\n",
    "df[\"buy_category_in_quarter\"] = df[\"buy_category_in_quarter\"].fillna(0)\n",
    "df.loc[(df['c_buy_in_this_y'] != 0), \"buy_category_in_year\"] = 1\n",
    "df[\"buy_category_in_year\"] = df[\"buy_category_in_year\"].fillna(0)"
   ]
  },
  {
   "cell_type": "code",
   "execution_count": 243,
   "id": "825ca5db",
   "metadata": {},
   "outputs": [
    {
     "data": {
      "text/html": [
       "<div>\n",
       "<style scoped>\n",
       "    .dataframe tbody tr th:only-of-type {\n",
       "        vertical-align: middle;\n",
       "    }\n",
       "\n",
       "    .dataframe tbody tr th {\n",
       "        vertical-align: top;\n",
       "    }\n",
       "\n",
       "    .dataframe thead th {\n",
       "        text-align: right;\n",
       "    }\n",
       "</style>\n",
       "<table border=\"1\" class=\"dataframe\">\n",
       "  <thead>\n",
       "    <tr style=\"text-align: right;\">\n",
       "      <th></th>\n",
       "      <th>buy_category_in_mounth</th>\n",
       "      <th>buy_category_in_quarter</th>\n",
       "      <th>buy_category_in_year</th>\n",
       "      <th>last_buy</th>\n",
       "      <th>c_last_buy</th>\n",
       "    </tr>\n",
       "  </thead>\n",
       "  <tbody>\n",
       "    <tr>\n",
       "      <th>0</th>\n",
       "      <td>1.0</td>\n",
       "      <td>1.0</td>\n",
       "      <td>1.0</td>\n",
       "      <td>1</td>\n",
       "      <td>10</td>\n",
       "    </tr>\n",
       "    <tr>\n",
       "      <th>1</th>\n",
       "      <td>1.0</td>\n",
       "      <td>1.0</td>\n",
       "      <td>1.0</td>\n",
       "      <td>1</td>\n",
       "      <td>10</td>\n",
       "    </tr>\n",
       "    <tr>\n",
       "      <th>2</th>\n",
       "      <td>1.0</td>\n",
       "      <td>1.0</td>\n",
       "      <td>1.0</td>\n",
       "      <td>1</td>\n",
       "      <td>10</td>\n",
       "    </tr>\n",
       "    <tr>\n",
       "      <th>3</th>\n",
       "      <td>0.0</td>\n",
       "      <td>1.0</td>\n",
       "      <td>1.0</td>\n",
       "      <td>1</td>\n",
       "      <td>46</td>\n",
       "    </tr>\n",
       "    <tr>\n",
       "      <th>4</th>\n",
       "      <td>1.0</td>\n",
       "      <td>1.0</td>\n",
       "      <td>1.0</td>\n",
       "      <td>1</td>\n",
       "      <td>10</td>\n",
       "    </tr>\n",
       "    <tr>\n",
       "      <th>...</th>\n",
       "      <td>...</td>\n",
       "      <td>...</td>\n",
       "      <td>...</td>\n",
       "      <td>...</td>\n",
       "      <td>...</td>\n",
       "    </tr>\n",
       "    <tr>\n",
       "      <th>790444</th>\n",
       "      <td>1.0</td>\n",
       "      <td>1.0</td>\n",
       "      <td>1.0</td>\n",
       "      <td>1</td>\n",
       "      <td>2</td>\n",
       "    </tr>\n",
       "    <tr>\n",
       "      <th>790445</th>\n",
       "      <td>1.0</td>\n",
       "      <td>1.0</td>\n",
       "      <td>1.0</td>\n",
       "      <td>1</td>\n",
       "      <td>1</td>\n",
       "    </tr>\n",
       "    <tr>\n",
       "      <th>790446</th>\n",
       "      <td>1.0</td>\n",
       "      <td>1.0</td>\n",
       "      <td>1.0</td>\n",
       "      <td>1</td>\n",
       "      <td>2</td>\n",
       "    </tr>\n",
       "    <tr>\n",
       "      <th>790447</th>\n",
       "      <td>1.0</td>\n",
       "      <td>1.0</td>\n",
       "      <td>1.0</td>\n",
       "      <td>1</td>\n",
       "      <td>2</td>\n",
       "    </tr>\n",
       "    <tr>\n",
       "      <th>790448</th>\n",
       "      <td>1.0</td>\n",
       "      <td>1.0</td>\n",
       "      <td>1.0</td>\n",
       "      <td>1</td>\n",
       "      <td>1</td>\n",
       "    </tr>\n",
       "  </tbody>\n",
       "</table>\n",
       "<p>790449 rows × 5 columns</p>\n",
       "</div>"
      ],
      "text/plain": [
       "        buy_category_in_mounth  buy_category_in_quarter  buy_category_in_year  \\\n",
       "0                          1.0                      1.0                   1.0   \n",
       "1                          1.0                      1.0                   1.0   \n",
       "2                          1.0                      1.0                   1.0   \n",
       "3                          0.0                      1.0                   1.0   \n",
       "4                          1.0                      1.0                   1.0   \n",
       "...                        ...                      ...                   ...   \n",
       "790444                     1.0                      1.0                   1.0   \n",
       "790445                     1.0                      1.0                   1.0   \n",
       "790446                     1.0                      1.0                   1.0   \n",
       "790447                     1.0                      1.0                   1.0   \n",
       "790448                     1.0                      1.0                   1.0   \n",
       "\n",
       "        last_buy  c_last_buy  \n",
       "0              1          10  \n",
       "1              1          10  \n",
       "2              1          10  \n",
       "3              1          46  \n",
       "4              1          10  \n",
       "...          ...         ...  \n",
       "790444         1           2  \n",
       "790445         1           1  \n",
       "790446         1           2  \n",
       "790447         1           2  \n",
       "790448         1           1  \n",
       "\n",
       "[790449 rows x 5 columns]"
      ]
     },
     "execution_count": 243,
     "metadata": {},
     "output_type": "execute_result"
    }
   ],
   "source": [
    "df[[\"buy_category_in_mounth\",\"buy_category_in_quarter\",\"buy_category_in_year\",\"last_buy\",\"c_last_buy\"]]"
   ]
  },
  {
   "cell_type": "code",
   "execution_count": 244,
   "id": "90b4276a",
   "metadata": {},
   "outputs": [],
   "source": [
    "feature = [\"buy_category_in_mounth\", \"buy_category_in_quarter\", \"buy_category_in_year\", \"last_buy\", \"c_last_buy\"]\n",
    "df_t = df[feature]"
   ]
  },
  {
   "cell_type": "code",
   "execution_count": 245,
   "id": "bb1ca8a8",
   "metadata": {},
   "outputs": [
    {
     "data": {
      "text/html": [
       "<div>\n",
       "<style scoped>\n",
       "    .dataframe tbody tr th:only-of-type {\n",
       "        vertical-align: middle;\n",
       "    }\n",
       "\n",
       "    .dataframe tbody tr th {\n",
       "        vertical-align: top;\n",
       "    }\n",
       "\n",
       "    .dataframe thead th {\n",
       "        text-align: right;\n",
       "    }\n",
       "</style>\n",
       "<table border=\"1\" class=\"dataframe\">\n",
       "  <thead>\n",
       "    <tr style=\"text-align: right;\">\n",
       "      <th></th>\n",
       "      <th>buy_category_in_mounth</th>\n",
       "      <th>buy_category_in_quarter</th>\n",
       "      <th>buy_category_in_year</th>\n",
       "      <th>last_buy</th>\n",
       "      <th>c_last_buy</th>\n",
       "    </tr>\n",
       "  </thead>\n",
       "  <tbody>\n",
       "    <tr>\n",
       "      <th>count</th>\n",
       "      <td>790449.000000</td>\n",
       "      <td>790449.000000</td>\n",
       "      <td>790449.000000</td>\n",
       "      <td>790449.000000</td>\n",
       "      <td>790449.000000</td>\n",
       "    </tr>\n",
       "    <tr>\n",
       "      <th>mean</th>\n",
       "      <td>0.359375</td>\n",
       "      <td>0.693325</td>\n",
       "      <td>0.992851</td>\n",
       "      <td>14.947851</td>\n",
       "      <td>84.876530</td>\n",
       "    </tr>\n",
       "    <tr>\n",
       "      <th>std</th>\n",
       "      <td>0.479818</td>\n",
       "      <td>0.461114</td>\n",
       "      <td>0.084250</td>\n",
       "      <td>18.218457</td>\n",
       "      <td>100.938571</td>\n",
       "    </tr>\n",
       "    <tr>\n",
       "      <th>min</th>\n",
       "      <td>0.000000</td>\n",
       "      <td>0.000000</td>\n",
       "      <td>0.000000</td>\n",
       "      <td>0.000000</td>\n",
       "      <td>0.000000</td>\n",
       "    </tr>\n",
       "    <tr>\n",
       "      <th>25%</th>\n",
       "      <td>0.000000</td>\n",
       "      <td>0.000000</td>\n",
       "      <td>1.000000</td>\n",
       "      <td>2.000000</td>\n",
       "      <td>19.000000</td>\n",
       "    </tr>\n",
       "    <tr>\n",
       "      <th>50%</th>\n",
       "      <td>0.000000</td>\n",
       "      <td>1.000000</td>\n",
       "      <td>1.000000</td>\n",
       "      <td>8.000000</td>\n",
       "      <td>51.000000</td>\n",
       "    </tr>\n",
       "    <tr>\n",
       "      <th>75%</th>\n",
       "      <td>1.000000</td>\n",
       "      <td>1.000000</td>\n",
       "      <td>1.000000</td>\n",
       "      <td>21.000000</td>\n",
       "      <td>111.000000</td>\n",
       "    </tr>\n",
       "    <tr>\n",
       "      <th>max</th>\n",
       "      <td>1.000000</td>\n",
       "      <td>1.000000</td>\n",
       "      <td>1.000000</td>\n",
       "      <td>89.000000</td>\n",
       "      <td>1884.000000</td>\n",
       "    </tr>\n",
       "  </tbody>\n",
       "</table>\n",
       "</div>"
      ],
      "text/plain": [
       "       buy_category_in_mounth  buy_category_in_quarter  buy_category_in_year  \\\n",
       "count           790449.000000            790449.000000         790449.000000   \n",
       "mean                 0.359375                 0.693325              0.992851   \n",
       "std                  0.479818                 0.461114              0.084250   \n",
       "min                  0.000000                 0.000000              0.000000   \n",
       "25%                  0.000000                 0.000000              1.000000   \n",
       "50%                  0.000000                 1.000000              1.000000   \n",
       "75%                  1.000000                 1.000000              1.000000   \n",
       "max                  1.000000                 1.000000              1.000000   \n",
       "\n",
       "            last_buy     c_last_buy  \n",
       "count  790449.000000  790449.000000  \n",
       "mean       14.947851      84.876530  \n",
       "std        18.218457     100.938571  \n",
       "min         0.000000       0.000000  \n",
       "25%         2.000000      19.000000  \n",
       "50%         8.000000      51.000000  \n",
       "75%        21.000000     111.000000  \n",
       "max        89.000000    1884.000000  "
      ]
     },
     "execution_count": 245,
     "metadata": {},
     "output_type": "execute_result"
    }
   ],
   "source": [
    "df_t.describe()"
   ]
  },
  {
   "cell_type": "code",
   "execution_count": 246,
   "id": "5ed1ff5b",
   "metadata": {},
   "outputs": [],
   "source": [
    "from sklearn.model_selection import train_test_split\n",
    "from sklearn.preprocessing import StandardScaler"
   ]
  },
  {
   "cell_type": "code",
   "execution_count": 247,
   "id": "50ae77af",
   "metadata": {},
   "outputs": [],
   "source": [
    "x_train, x_test, y_train, y_test = train_test_split(df_t, df[\"target\"], test_size=0.3, random_state=0)"
   ]
  },
  {
   "cell_type": "code",
   "execution_count": 248,
   "id": "03b032f4",
   "metadata": {},
   "outputs": [],
   "source": [
    "from sklearn.neighbors import KNeighborsClassifier"
   ]
  },
  {
   "cell_type": "code",
   "execution_count": 249,
   "id": "d8e27535",
   "metadata": {},
   "outputs": [],
   "source": [
    "model = KNeighborsClassifier()\n",
    "scaler = StandardScaler()"
   ]
  },
  {
   "cell_type": "code",
   "execution_count": 250,
   "id": "1f1777a1",
   "metadata": {},
   "outputs": [],
   "source": [
    "#x_train['last_buy'] = x_train['last_buy']/x_train['last_buy'].max()"
   ]
  },
  {
   "cell_type": "code",
   "execution_count": 251,
   "id": "94583110",
   "metadata": {},
   "outputs": [],
   "source": [
    "#x_train['c_last_buy'] = x_train['c_last_buy']/x_train['c_last_buy'].max()"
   ]
  },
  {
   "cell_type": "code",
   "execution_count": 252,
   "id": "4c0bd220",
   "metadata": {},
   "outputs": [
    {
     "data": {
      "text/html": [
       "<div>\n",
       "<style scoped>\n",
       "    .dataframe tbody tr th:only-of-type {\n",
       "        vertical-align: middle;\n",
       "    }\n",
       "\n",
       "    .dataframe tbody tr th {\n",
       "        vertical-align: top;\n",
       "    }\n",
       "\n",
       "    .dataframe thead th {\n",
       "        text-align: right;\n",
       "    }\n",
       "</style>\n",
       "<table border=\"1\" class=\"dataframe\">\n",
       "  <thead>\n",
       "    <tr style=\"text-align: right;\">\n",
       "      <th></th>\n",
       "      <th>buy_category_in_mounth</th>\n",
       "      <th>buy_category_in_quarter</th>\n",
       "      <th>buy_category_in_year</th>\n",
       "      <th>last_buy</th>\n",
       "      <th>c_last_buy</th>\n",
       "    </tr>\n",
       "  </thead>\n",
       "  <tbody>\n",
       "    <tr>\n",
       "      <th>569164</th>\n",
       "      <td>1.0</td>\n",
       "      <td>1.0</td>\n",
       "      <td>1.0</td>\n",
       "      <td>7</td>\n",
       "      <td>27</td>\n",
       "    </tr>\n",
       "    <tr>\n",
       "      <th>645265</th>\n",
       "      <td>0.0</td>\n",
       "      <td>1.0</td>\n",
       "      <td>1.0</td>\n",
       "      <td>17</td>\n",
       "      <td>39</td>\n",
       "    </tr>\n",
       "    <tr>\n",
       "      <th>121124</th>\n",
       "      <td>0.0</td>\n",
       "      <td>0.0</td>\n",
       "      <td>1.0</td>\n",
       "      <td>0</td>\n",
       "      <td>114</td>\n",
       "    </tr>\n",
       "    <tr>\n",
       "      <th>339917</th>\n",
       "      <td>1.0</td>\n",
       "      <td>1.0</td>\n",
       "      <td>1.0</td>\n",
       "      <td>0</td>\n",
       "      <td>26</td>\n",
       "    </tr>\n",
       "    <tr>\n",
       "      <th>105569</th>\n",
       "      <td>0.0</td>\n",
       "      <td>0.0</td>\n",
       "      <td>1.0</td>\n",
       "      <td>47</td>\n",
       "      <td>241</td>\n",
       "    </tr>\n",
       "    <tr>\n",
       "      <th>...</th>\n",
       "      <td>...</td>\n",
       "      <td>...</td>\n",
       "      <td>...</td>\n",
       "      <td>...</td>\n",
       "      <td>...</td>\n",
       "    </tr>\n",
       "    <tr>\n",
       "      <th>359783</th>\n",
       "      <td>1.0</td>\n",
       "      <td>1.0</td>\n",
       "      <td>1.0</td>\n",
       "      <td>8</td>\n",
       "      <td>15</td>\n",
       "    </tr>\n",
       "    <tr>\n",
       "      <th>152315</th>\n",
       "      <td>1.0</td>\n",
       "      <td>1.0</td>\n",
       "      <td>1.0</td>\n",
       "      <td>0</td>\n",
       "      <td>26</td>\n",
       "    </tr>\n",
       "    <tr>\n",
       "      <th>117952</th>\n",
       "      <td>0.0</td>\n",
       "      <td>0.0</td>\n",
       "      <td>1.0</td>\n",
       "      <td>42</td>\n",
       "      <td>214</td>\n",
       "    </tr>\n",
       "    <tr>\n",
       "      <th>435829</th>\n",
       "      <td>0.0</td>\n",
       "      <td>1.0</td>\n",
       "      <td>1.0</td>\n",
       "      <td>64</td>\n",
       "      <td>64</td>\n",
       "    </tr>\n",
       "    <tr>\n",
       "      <th>305711</th>\n",
       "      <td>0.0</td>\n",
       "      <td>1.0</td>\n",
       "      <td>1.0</td>\n",
       "      <td>1</td>\n",
       "      <td>57</td>\n",
       "    </tr>\n",
       "  </tbody>\n",
       "</table>\n",
       "<p>553314 rows × 5 columns</p>\n",
       "</div>"
      ],
      "text/plain": [
       "        buy_category_in_mounth  buy_category_in_quarter  buy_category_in_year  \\\n",
       "569164                     1.0                      1.0                   1.0   \n",
       "645265                     0.0                      1.0                   1.0   \n",
       "121124                     0.0                      0.0                   1.0   \n",
       "339917                     1.0                      1.0                   1.0   \n",
       "105569                     0.0                      0.0                   1.0   \n",
       "...                        ...                      ...                   ...   \n",
       "359783                     1.0                      1.0                   1.0   \n",
       "152315                     1.0                      1.0                   1.0   \n",
       "117952                     0.0                      0.0                   1.0   \n",
       "435829                     0.0                      1.0                   1.0   \n",
       "305711                     0.0                      1.0                   1.0   \n",
       "\n",
       "        last_buy  c_last_buy  \n",
       "569164         7          27  \n",
       "645265        17          39  \n",
       "121124         0         114  \n",
       "339917         0          26  \n",
       "105569        47         241  \n",
       "...          ...         ...  \n",
       "359783         8          15  \n",
       "152315         0          26  \n",
       "117952        42         214  \n",
       "435829        64          64  \n",
       "305711         1          57  \n",
       "\n",
       "[553314 rows x 5 columns]"
      ]
     },
     "execution_count": 252,
     "metadata": {},
     "output_type": "execute_result"
    }
   ],
   "source": [
    "x_train"
   ]
  },
  {
   "cell_type": "code",
   "execution_count": 253,
   "id": "aa1cf47c",
   "metadata": {},
   "outputs": [
    {
     "data": {
      "text/plain": [
       "KNeighborsClassifier()"
      ]
     },
     "execution_count": 253,
     "metadata": {},
     "output_type": "execute_result"
    }
   ],
   "source": [
    "model.fit(x_train, y_train)"
   ]
  },
  {
   "cell_type": "code",
   "execution_count": 254,
   "id": "a6ac67be",
   "metadata": {},
   "outputs": [],
   "source": [
    "from sklearn.metrics import f1_score"
   ]
  },
  {
   "cell_type": "code",
   "execution_count": 255,
   "id": "305e581a",
   "metadata": {},
   "outputs": [
    {
     "data": {
      "text/plain": [
       "0.5319677018455061"
      ]
     },
     "execution_count": 255,
     "metadata": {},
     "output_type": "execute_result"
    }
   ],
   "source": [
    "f1_score(y_train, model.predict(x_train))"
   ]
  },
  {
   "cell_type": "code",
   "execution_count": 256,
   "id": "5d5ecd0f",
   "metadata": {},
   "outputs": [
    {
     "data": {
      "text/plain": [
       "0.5028203871907937"
      ]
     },
     "execution_count": 256,
     "metadata": {},
     "output_type": "execute_result"
    }
   ],
   "source": [
    "f1_score(y_test, model.predict(x_test))"
   ]
  },
  {
   "cell_type": "code",
   "execution_count": 257,
   "id": "f11e0dad",
   "metadata": {},
   "outputs": [],
   "source": [
    "x = model.predict(df_t)"
   ]
  },
  {
   "cell_type": "code",
   "execution_count": 258,
   "id": "f5dfddbf",
   "metadata": {},
   "outputs": [],
   "source": [
    "result = pd.DataFrame({\"id\":df[\"id\"].values, \"target\":x})"
   ]
  },
  {
   "cell_type": "code",
   "execution_count": 259,
   "id": "cceff300",
   "metadata": {},
   "outputs": [],
   "source": [
    "result['target'] = result['target'].astype('int64')"
   ]
  },
  {
   "cell_type": "code",
   "execution_count": 260,
   "id": "7d498363",
   "metadata": {},
   "outputs": [
    {
     "data": {
      "text/html": [
       "<div>\n",
       "<style scoped>\n",
       "    .dataframe tbody tr th:only-of-type {\n",
       "        vertical-align: middle;\n",
       "    }\n",
       "\n",
       "    .dataframe tbody tr th {\n",
       "        vertical-align: top;\n",
       "    }\n",
       "\n",
       "    .dataframe thead th {\n",
       "        text-align: right;\n",
       "    }\n",
       "</style>\n",
       "<table border=\"1\" class=\"dataframe\">\n",
       "  <thead>\n",
       "    <tr style=\"text-align: right;\">\n",
       "      <th></th>\n",
       "      <th>id</th>\n",
       "      <th>target</th>\n",
       "    </tr>\n",
       "  </thead>\n",
       "  <tbody>\n",
       "    <tr>\n",
       "      <th>0</th>\n",
       "      <td>0;5</td>\n",
       "      <td>1</td>\n",
       "    </tr>\n",
       "    <tr>\n",
       "      <th>1</th>\n",
       "      <td>0;10</td>\n",
       "      <td>1</td>\n",
       "    </tr>\n",
       "    <tr>\n",
       "      <th>2</th>\n",
       "      <td>0;14</td>\n",
       "      <td>1</td>\n",
       "    </tr>\n",
       "    <tr>\n",
       "      <th>3</th>\n",
       "      <td>0;20</td>\n",
       "      <td>0</td>\n",
       "    </tr>\n",
       "    <tr>\n",
       "      <th>4</th>\n",
       "      <td>0;22</td>\n",
       "      <td>1</td>\n",
       "    </tr>\n",
       "    <tr>\n",
       "      <th>...</th>\n",
       "      <td>...</td>\n",
       "      <td>...</td>\n",
       "    </tr>\n",
       "    <tr>\n",
       "      <th>790444</th>\n",
       "      <td>19998;398</td>\n",
       "      <td>0</td>\n",
       "    </tr>\n",
       "    <tr>\n",
       "      <th>790445</th>\n",
       "      <td>19998;409</td>\n",
       "      <td>0</td>\n",
       "    </tr>\n",
       "    <tr>\n",
       "      <th>790446</th>\n",
       "      <td>19998;415</td>\n",
       "      <td>0</td>\n",
       "    </tr>\n",
       "    <tr>\n",
       "      <th>790447</th>\n",
       "      <td>19998;420</td>\n",
       "      <td>0</td>\n",
       "    </tr>\n",
       "    <tr>\n",
       "      <th>790448</th>\n",
       "      <td>19998;798</td>\n",
       "      <td>0</td>\n",
       "    </tr>\n",
       "  </tbody>\n",
       "</table>\n",
       "<p>790449 rows × 2 columns</p>\n",
       "</div>"
      ],
      "text/plain": [
       "               id  target\n",
       "0             0;5       1\n",
       "1            0;10       1\n",
       "2            0;14       1\n",
       "3            0;20       0\n",
       "4            0;22       1\n",
       "...           ...     ...\n",
       "790444  19998;398       0\n",
       "790445  19998;409       0\n",
       "790446  19998;415       0\n",
       "790447  19998;420       0\n",
       "790448  19998;798       0\n",
       "\n",
       "[790449 rows x 2 columns]"
      ]
     },
     "execution_count": 260,
     "metadata": {},
     "output_type": "execute_result"
    }
   ],
   "source": [
    "result"
   ]
  },
  {
   "cell_type": "code",
   "execution_count": 261,
   "id": "e1c63165",
   "metadata": {},
   "outputs": [],
   "source": [
    "result.to_csv('final_result2.csv', index=False)"
   ]
  },
  {
   "cell_type": "code",
   "execution_count": 262,
   "id": "39757a4e",
   "metadata": {},
   "outputs": [],
   "source": [
    "from sklearn.ensemble import RandomForestClassifier"
   ]
  },
  {
   "cell_type": "code",
   "execution_count": 263,
   "id": "5feb6fde",
   "metadata": {},
   "outputs": [],
   "source": [
    "model2 = RandomForestClassifier(n_estimators=200, max_depth=200, min_samples_leaf=10)"
   ]
  },
  {
   "cell_type": "code",
   "execution_count": 264,
   "id": "f4d80844",
   "metadata": {},
   "outputs": [
    {
     "data": {
      "text/plain": [
       "RandomForestClassifier(max_depth=200, min_samples_leaf=10, n_estimators=200)"
      ]
     },
     "execution_count": 264,
     "metadata": {},
     "output_type": "execute_result"
    }
   ],
   "source": [
    "model2.fit(x_train, y_train)"
   ]
  },
  {
   "cell_type": "code",
   "execution_count": 265,
   "id": "cbbb9c20",
   "metadata": {},
   "outputs": [
    {
     "data": {
      "text/plain": [
       "0.5544344169682061"
      ]
     },
     "execution_count": 265,
     "metadata": {},
     "output_type": "execute_result"
    }
   ],
   "source": [
    "f1_score(y_train, model2.predict(x_train))"
   ]
  },
  {
   "cell_type": "code",
   "execution_count": 266,
   "id": "fadf40df",
   "metadata": {},
   "outputs": [
    {
     "data": {
      "text/plain": [
       "0.5074378515092016"
      ]
     },
     "execution_count": 266,
     "metadata": {},
     "output_type": "execute_result"
    }
   ],
   "source": [
    "f1_score(y_test, model2.predict(x_test))"
   ]
  },
  {
   "cell_type": "code",
   "execution_count": 267,
   "id": "4eab7139",
   "metadata": {},
   "outputs": [],
   "source": [
    "x2 = model2.predict(df_t)\n",
    "result2 = pd.DataFrame({\"id\":df[\"id\"].values, \"target\":x})\n",
    "result2['target'] = result2['target'].astype('int64')"
   ]
  },
  {
   "cell_type": "code",
   "execution_count": 268,
   "id": "8fbff4e3",
   "metadata": {},
   "outputs": [],
   "source": [
    "result2.to_csv('final_result3.csv', index=False)"
   ]
  },
  {
   "cell_type": "code",
   "execution_count": null,
   "id": "7d898692",
   "metadata": {},
   "outputs": [],
   "source": []
  }
 ],
 "metadata": {
  "kernelspec": {
   "display_name": "Python 3",
   "language": "python",
   "name": "python3"
  },
  "language_info": {
   "codemirror_mode": {
    "name": "ipython",
    "version": 3
   },
   "file_extension": ".py",
   "mimetype": "text/x-python",
   "name": "python",
   "nbconvert_exporter": "python",
   "pygments_lexer": "ipython3",
   "version": "3.8.8"
  }
 },
 "nbformat": 4,
 "nbformat_minor": 5
}
