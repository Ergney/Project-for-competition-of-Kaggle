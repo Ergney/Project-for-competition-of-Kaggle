{
 "cells": [
  {
   "cell_type": "markdown",
   "id": "faa8ae81",
   "metadata": {},
   "source": [
    "\n",
    "In this competition your task will be to predict the mean math exam result for students of tutors in test.csv. You will be given two datasets: train.csv and test.csv .\n",
    "\n",
    "Задача этом соревновании - предсказать средний балл на экзамене по математике, который получают ученики репетиторов из датасета test.csv.\n",
    "\n",
    "Вам будут даны два датасета:\n",
    "\n",
    "train.csv содержит признаки и целевую переменную \n",
    "\n",
    "test.csv только признаки."
   ]
  },
  {
   "cell_type": "code",
   "execution_count": 15,
   "id": "643be492",
   "metadata": {},
   "outputs": [],
   "source": [
    "#Подключение библиотек\n",
    "\n",
    "import numpy as np\n",
    "import pandas as pd\n",
    "from sklearn.model_selection import train_test_split\n",
    "import matplotlib.pyplot as plt\n",
    "import seaborn as sns\n",
    "from tqdm import tqdm"
   ]
  },
  {
   "cell_type": "code",
   "execution_count": 16,
   "id": "5ccec401",
   "metadata": {},
   "outputs": [],
   "source": [
    "#Запись данных в формате Pandas DataFrame в соответсвующие переменные / Writing data in Pandas DataFrame format to variables\n",
    "#df_train = pd.read_csv(\"./Загрузки/train.csv\")\n",
    "#df_test = pd.read_csv(\"./Загрузки/test.csv\")\n",
    "df_train = pd.read_csv(\"C://Users//Ergney//Downloads//train.csv\")\n",
    "df_test = pd.read_csv(\"C://Users//Ergney//Downloads//test.csv\")\n",
    "\n",
    "#df_submission = pd.read_csv(\"./Загрузки/submission_example.csv\")"
   ]
  },
  {
   "cell_type": "markdown",
   "id": "4642807f",
   "metadata": {},
   "source": [
    "<p style=\"font-size:26\"><b>Первичный анализ данных</b></p>"
   ]
  },
  {
   "cell_type": "code",
   "execution_count": 17,
   "id": "333e604c",
   "metadata": {},
   "outputs": [
    {
     "name": "stdout",
     "output_type": "stream",
     "text": [
      "<class 'pandas.core.frame.DataFrame'>\n",
      "RangeIndex: 10000 entries, 0 to 9999\n",
      "Data columns (total 12 columns):\n",
      " #   Column               Non-Null Count  Dtype  \n",
      "---  ------               --------------  -----  \n",
      " 0   Id                   10000 non-null  int64  \n",
      " 1   age                  10000 non-null  float64\n",
      " 2   years_of_experience  10000 non-null  float64\n",
      " 3   lesson_price         10000 non-null  float64\n",
      " 4   qualification        10000 non-null  float64\n",
      " 5   physics              10000 non-null  float64\n",
      " 6   chemistry            10000 non-null  float64\n",
      " 7   biology              10000 non-null  float64\n",
      " 8   english              10000 non-null  float64\n",
      " 9   geography            10000 non-null  float64\n",
      " 10  history              10000 non-null  float64\n",
      " 11  mean_exam_points     10000 non-null  float64\n",
      "dtypes: float64(11), int64(1)\n",
      "memory usage: 937.6 KB\n"
     ]
    }
   ],
   "source": [
    "#Вывод общей информации о названии, заполнености столбцов и типах данных в них.\n",
    "#Displays general information about the name, the filling of the columns and the types of data in them.\n",
    "\n",
    "df_train.info()"
   ]
  },
  {
   "cell_type": "markdown",
   "id": "8bcf5577",
   "metadata": {},
   "source": [
    "10 столбцов, 8 из них признаки, 1 целевая переменная, первый столбец индекс - не имеет отношения к данным. Нет пропусков в данных."
   ]
  },
  {
   "cell_type": "code",
   "execution_count": 18,
   "id": "e84afd8d",
   "metadata": {},
   "outputs": [
    {
     "data": {
      "text/html": [
       "<div>\n",
       "<style scoped>\n",
       "    .dataframe tbody tr th:only-of-type {\n",
       "        vertical-align: middle;\n",
       "    }\n",
       "\n",
       "    .dataframe tbody tr th {\n",
       "        vertical-align: top;\n",
       "    }\n",
       "\n",
       "    .dataframe thead th {\n",
       "        text-align: right;\n",
       "    }\n",
       "</style>\n",
       "<table border=\"1\" class=\"dataframe\">\n",
       "  <thead>\n",
       "    <tr style=\"text-align: right;\">\n",
       "      <th></th>\n",
       "      <th>Id</th>\n",
       "      <th>age</th>\n",
       "      <th>years_of_experience</th>\n",
       "      <th>lesson_price</th>\n",
       "      <th>qualification</th>\n",
       "      <th>physics</th>\n",
       "      <th>chemistry</th>\n",
       "      <th>biology</th>\n",
       "      <th>english</th>\n",
       "      <th>geography</th>\n",
       "      <th>history</th>\n",
       "      <th>mean_exam_points</th>\n",
       "    </tr>\n",
       "  </thead>\n",
       "  <tbody>\n",
       "    <tr>\n",
       "      <th>count</th>\n",
       "      <td>10000.00000</td>\n",
       "      <td>10000.000000</td>\n",
       "      <td>10000.000000</td>\n",
       "      <td>10000.000000</td>\n",
       "      <td>10000.000000</td>\n",
       "      <td>10000.000000</td>\n",
       "      <td>10000.000000</td>\n",
       "      <td>10000.000000</td>\n",
       "      <td>10000.000000</td>\n",
       "      <td>10000.000000</td>\n",
       "      <td>10000.000000</td>\n",
       "      <td>10000.000000</td>\n",
       "    </tr>\n",
       "    <tr>\n",
       "      <th>mean</th>\n",
       "      <td>4999.50000</td>\n",
       "      <td>45.878000</td>\n",
       "      <td>1.986800</td>\n",
       "      <td>1699.105000</td>\n",
       "      <td>1.719500</td>\n",
       "      <td>0.375000</td>\n",
       "      <td>0.132900</td>\n",
       "      <td>0.109600</td>\n",
       "      <td>0.053700</td>\n",
       "      <td>0.032100</td>\n",
       "      <td>0.019400</td>\n",
       "      <td>64.340800</td>\n",
       "    </tr>\n",
       "    <tr>\n",
       "      <th>std</th>\n",
       "      <td>2886.89568</td>\n",
       "      <td>8.043929</td>\n",
       "      <td>1.772213</td>\n",
       "      <td>524.886654</td>\n",
       "      <td>0.792264</td>\n",
       "      <td>0.484147</td>\n",
       "      <td>0.339484</td>\n",
       "      <td>0.312406</td>\n",
       "      <td>0.225436</td>\n",
       "      <td>0.176274</td>\n",
       "      <td>0.137933</td>\n",
       "      <td>13.536823</td>\n",
       "    </tr>\n",
       "    <tr>\n",
       "      <th>min</th>\n",
       "      <td>0.00000</td>\n",
       "      <td>23.000000</td>\n",
       "      <td>0.000000</td>\n",
       "      <td>200.000000</td>\n",
       "      <td>1.000000</td>\n",
       "      <td>0.000000</td>\n",
       "      <td>0.000000</td>\n",
       "      <td>0.000000</td>\n",
       "      <td>0.000000</td>\n",
       "      <td>0.000000</td>\n",
       "      <td>0.000000</td>\n",
       "      <td>32.000000</td>\n",
       "    </tr>\n",
       "    <tr>\n",
       "      <th>10%</th>\n",
       "      <td>999.90000</td>\n",
       "      <td>36.000000</td>\n",
       "      <td>0.000000</td>\n",
       "      <td>1150.000000</td>\n",
       "      <td>1.000000</td>\n",
       "      <td>0.000000</td>\n",
       "      <td>0.000000</td>\n",
       "      <td>0.000000</td>\n",
       "      <td>0.000000</td>\n",
       "      <td>0.000000</td>\n",
       "      <td>0.000000</td>\n",
       "      <td>47.000000</td>\n",
       "    </tr>\n",
       "    <tr>\n",
       "      <th>20%</th>\n",
       "      <td>1999.80000</td>\n",
       "      <td>39.000000</td>\n",
       "      <td>0.000000</td>\n",
       "      <td>1250.000000</td>\n",
       "      <td>1.000000</td>\n",
       "      <td>0.000000</td>\n",
       "      <td>0.000000</td>\n",
       "      <td>0.000000</td>\n",
       "      <td>0.000000</td>\n",
       "      <td>0.000000</td>\n",
       "      <td>0.000000</td>\n",
       "      <td>53.000000</td>\n",
       "    </tr>\n",
       "    <tr>\n",
       "      <th>30%</th>\n",
       "      <td>2999.70000</td>\n",
       "      <td>42.000000</td>\n",
       "      <td>1.000000</td>\n",
       "      <td>1350.000000</td>\n",
       "      <td>1.000000</td>\n",
       "      <td>0.000000</td>\n",
       "      <td>0.000000</td>\n",
       "      <td>0.000000</td>\n",
       "      <td>0.000000</td>\n",
       "      <td>0.000000</td>\n",
       "      <td>0.000000</td>\n",
       "      <td>57.000000</td>\n",
       "    </tr>\n",
       "    <tr>\n",
       "      <th>40%</th>\n",
       "      <td>3999.60000</td>\n",
       "      <td>44.000000</td>\n",
       "      <td>1.000000</td>\n",
       "      <td>1450.000000</td>\n",
       "      <td>1.000000</td>\n",
       "      <td>0.000000</td>\n",
       "      <td>0.000000</td>\n",
       "      <td>0.000000</td>\n",
       "      <td>0.000000</td>\n",
       "      <td>0.000000</td>\n",
       "      <td>0.000000</td>\n",
       "      <td>60.000000</td>\n",
       "    </tr>\n",
       "    <tr>\n",
       "      <th>50%</th>\n",
       "      <td>4999.50000</td>\n",
       "      <td>46.000000</td>\n",
       "      <td>2.000000</td>\n",
       "      <td>1500.000000</td>\n",
       "      <td>2.000000</td>\n",
       "      <td>0.000000</td>\n",
       "      <td>0.000000</td>\n",
       "      <td>0.000000</td>\n",
       "      <td>0.000000</td>\n",
       "      <td>0.000000</td>\n",
       "      <td>0.000000</td>\n",
       "      <td>63.000000</td>\n",
       "    </tr>\n",
       "    <tr>\n",
       "      <th>60%</th>\n",
       "      <td>5999.40000</td>\n",
       "      <td>48.000000</td>\n",
       "      <td>2.000000</td>\n",
       "      <td>1700.000000</td>\n",
       "      <td>2.000000</td>\n",
       "      <td>0.000000</td>\n",
       "      <td>0.000000</td>\n",
       "      <td>0.000000</td>\n",
       "      <td>0.000000</td>\n",
       "      <td>0.000000</td>\n",
       "      <td>0.000000</td>\n",
       "      <td>67.000000</td>\n",
       "    </tr>\n",
       "    <tr>\n",
       "      <th>70%</th>\n",
       "      <td>6999.30000</td>\n",
       "      <td>50.000000</td>\n",
       "      <td>3.000000</td>\n",
       "      <td>1950.000000</td>\n",
       "      <td>2.000000</td>\n",
       "      <td>1.000000</td>\n",
       "      <td>0.000000</td>\n",
       "      <td>0.000000</td>\n",
       "      <td>0.000000</td>\n",
       "      <td>0.000000</td>\n",
       "      <td>0.000000</td>\n",
       "      <td>70.000000</td>\n",
       "    </tr>\n",
       "    <tr>\n",
       "      <th>80%</th>\n",
       "      <td>7999.20000</td>\n",
       "      <td>53.000000</td>\n",
       "      <td>4.000000</td>\n",
       "      <td>2200.000000</td>\n",
       "      <td>3.000000</td>\n",
       "      <td>1.000000</td>\n",
       "      <td>0.000000</td>\n",
       "      <td>0.000000</td>\n",
       "      <td>0.000000</td>\n",
       "      <td>0.000000</td>\n",
       "      <td>0.000000</td>\n",
       "      <td>77.000000</td>\n",
       "    </tr>\n",
       "    <tr>\n",
       "      <th>90%</th>\n",
       "      <td>8999.10000</td>\n",
       "      <td>56.000000</td>\n",
       "      <td>4.000000</td>\n",
       "      <td>2400.000000</td>\n",
       "      <td>3.000000</td>\n",
       "      <td>1.000000</td>\n",
       "      <td>1.000000</td>\n",
       "      <td>1.000000</td>\n",
       "      <td>0.000000</td>\n",
       "      <td>0.000000</td>\n",
       "      <td>0.000000</td>\n",
       "      <td>84.000000</td>\n",
       "    </tr>\n",
       "    <tr>\n",
       "      <th>max</th>\n",
       "      <td>9999.00000</td>\n",
       "      <td>68.000000</td>\n",
       "      <td>10.000000</td>\n",
       "      <td>3950.000000</td>\n",
       "      <td>4.000000</td>\n",
       "      <td>1.000000</td>\n",
       "      <td>1.000000</td>\n",
       "      <td>1.000000</td>\n",
       "      <td>1.000000</td>\n",
       "      <td>1.000000</td>\n",
       "      <td>1.000000</td>\n",
       "      <td>100.000000</td>\n",
       "    </tr>\n",
       "  </tbody>\n",
       "</table>\n",
       "</div>"
      ],
      "text/plain": [
       "                Id           age  years_of_experience  lesson_price  \\\n",
       "count  10000.00000  10000.000000         10000.000000  10000.000000   \n",
       "mean    4999.50000     45.878000             1.986800   1699.105000   \n",
       "std     2886.89568      8.043929             1.772213    524.886654   \n",
       "min        0.00000     23.000000             0.000000    200.000000   \n",
       "10%      999.90000     36.000000             0.000000   1150.000000   \n",
       "20%     1999.80000     39.000000             0.000000   1250.000000   \n",
       "30%     2999.70000     42.000000             1.000000   1350.000000   \n",
       "40%     3999.60000     44.000000             1.000000   1450.000000   \n",
       "50%     4999.50000     46.000000             2.000000   1500.000000   \n",
       "60%     5999.40000     48.000000             2.000000   1700.000000   \n",
       "70%     6999.30000     50.000000             3.000000   1950.000000   \n",
       "80%     7999.20000     53.000000             4.000000   2200.000000   \n",
       "90%     8999.10000     56.000000             4.000000   2400.000000   \n",
       "max     9999.00000     68.000000            10.000000   3950.000000   \n",
       "\n",
       "       qualification       physics     chemistry       biology       english  \\\n",
       "count   10000.000000  10000.000000  10000.000000  10000.000000  10000.000000   \n",
       "mean        1.719500      0.375000      0.132900      0.109600      0.053700   \n",
       "std         0.792264      0.484147      0.339484      0.312406      0.225436   \n",
       "min         1.000000      0.000000      0.000000      0.000000      0.000000   \n",
       "10%         1.000000      0.000000      0.000000      0.000000      0.000000   \n",
       "20%         1.000000      0.000000      0.000000      0.000000      0.000000   \n",
       "30%         1.000000      0.000000      0.000000      0.000000      0.000000   \n",
       "40%         1.000000      0.000000      0.000000      0.000000      0.000000   \n",
       "50%         2.000000      0.000000      0.000000      0.000000      0.000000   \n",
       "60%         2.000000      0.000000      0.000000      0.000000      0.000000   \n",
       "70%         2.000000      1.000000      0.000000      0.000000      0.000000   \n",
       "80%         3.000000      1.000000      0.000000      0.000000      0.000000   \n",
       "90%         3.000000      1.000000      1.000000      1.000000      0.000000   \n",
       "max         4.000000      1.000000      1.000000      1.000000      1.000000   \n",
       "\n",
       "          geography       history  mean_exam_points  \n",
       "count  10000.000000  10000.000000      10000.000000  \n",
       "mean       0.032100      0.019400         64.340800  \n",
       "std        0.176274      0.137933         13.536823  \n",
       "min        0.000000      0.000000         32.000000  \n",
       "10%        0.000000      0.000000         47.000000  \n",
       "20%        0.000000      0.000000         53.000000  \n",
       "30%        0.000000      0.000000         57.000000  \n",
       "40%        0.000000      0.000000         60.000000  \n",
       "50%        0.000000      0.000000         63.000000  \n",
       "60%        0.000000      0.000000         67.000000  \n",
       "70%        0.000000      0.000000         70.000000  \n",
       "80%        0.000000      0.000000         77.000000  \n",
       "90%        0.000000      0.000000         84.000000  \n",
       "max        1.000000      1.000000        100.000000  "
      ]
     },
     "execution_count": 18,
     "metadata": {},
     "output_type": "execute_result"
    }
   ],
   "source": [
    "#Рассмотрим как распределены значения признаков в датасете.\n",
    "\n",
    "#Выделим 9 персентилей от 0.1 до 0.9, для более подробной оценки данных.\n",
    "percentiles = [i/10 for i in range(1,10)]\n",
    "\n",
    "#Выведем числовую информацию о данных. \n",
    "df_train.describe(percentiles=percentiles, include=\"all\")\n",
    "#df.describe(include=['object', 'bool'])"
   ]
  },
  {
   "cell_type": "markdown",
   "id": "6cf14289",
   "metadata": {},
   "source": [
    "Первый столбец age - возраст преподавателя в годах. Вероятнее всего его влияние не слишком большое, но изучить стоит.\n",
    "\n",
    "Второй столбец years_of_experience - Количество лет сколько преподает учитель. Аномальных значений не наблюдается.\n",
    "\n",
    "Третий столбец lesson_price - Цена занятия в каких то денежных единицах. Аномальных значений не наблюдается.\n",
    "\n",
    "Четвертый столбец qualification - Квалицикация. Пока не совсем понятно, как интерпритировать этот признак. По всей видимости это некое распределение преподавателей по 4 группам. Чем выше группа тем выше квалификация. Ниже данный признак будет рассмотрен отдельно подробнее.\n",
    "\n",
    "Далее идут пять столбцов (physics, chemistry, biology, english, geography, history) все они очевидно означают какую-то дисциплину. Скорее всего ту по которой так же репетитор дает занятия или вроде того. Они представлены в виде булевых значений (0|1)\n",
    "\n",
    "Последний столбец mean_exam_points - целевая переменная. Должна находиться в диапазоне от 0 до 100. Аномальных значений не наблюдается. Ниже будет рассмотрено её распределение."
   ]
  },
  {
   "cell_type": "code",
   "execution_count": 19,
   "id": "2bc829b3",
   "metadata": {},
   "outputs": [
    {
     "data": {
      "text/plain": [
       "1.0    4884\n",
       "2.0    3087\n",
       "3.0    1979\n",
       "4.0      50\n",
       "Name: qualification, dtype: int64"
      ]
     },
     "execution_count": 19,
     "metadata": {},
     "output_type": "execute_result"
    }
   ],
   "source": [
    "#Рассмотрим подробнее признак qualification\n",
    "\n",
    "df_train[\"qualification\"].value_counts()"
   ]
  },
  {
   "cell_type": "markdown",
   "id": "115c86d3",
   "metadata": {},
   "source": [
    "Как видно признак действительно принимает 4 значения. Для оценки признака разумно будет рассмотреть среднее значение целевой переменной для каждого из них."
   ]
  },
  {
   "cell_type": "code",
   "execution_count": 20,
   "id": "e5535605",
   "metadata": {},
   "outputs": [],
   "source": [
    "#Сделаем функцию для вывода коэфицента корреляции Пирсона между двумя признаками.\n",
    "\n",
    "def correlation(df,x,y):\n",
    "    n = df[x].shape[0]\n",
    "    \n",
    "    x_mean = sum(df[x]) / (n - 1)\n",
    "    y_mean = sum(df[y]) / (n - 1)\n",
    "    \n",
    "    x_disp = (sum((df[x] - x_mean)**2) / (n-1))**0.5\n",
    "    y_disp = (sum((df[y] - y_mean)**2) / (n-1))**0.5\n",
    "    \n",
    "    cov = sum((df[x] - x_mean) * (df[y] - y_mean)) / (n - 1)\n",
    "    cor = round(cov / (x_disp * y_disp), 2)\n",
    "    \n",
    "    return  cor"
   ]
  },
  {
   "cell_type": "code",
   "execution_count": 21,
   "id": "3be2c9e4",
   "metadata": {},
   "outputs": [],
   "source": [
    "#Сделаем функцию для вывода среднего значения одного признака для каждого значения другого признака. \n",
    "\n",
    "def target_feature_chek(df, feature, target=\"mean_exam_points\"):\n",
    "    values = np.sort(df[feature].unique())\n",
    "    \n",
    "    for value in values:\n",
    "        result = round(np.mean(df[target].loc[df[feature] == value]), 2)\n",
    "        print(f'Среднее значение {target} среди записей где {feature} = {value} составляет: {result}')\n",
    "        \n",
    "    #Так же добавим вывод коэфицента корреляции Пирсона между этими признаками.\n",
    "    \n",
    "    corr = correlation(df, feature, target)\n",
    "    \n",
    "    print(f'Коэффицент корреляции Пирсона для признаков:  {corr}')"
   ]
  },
  {
   "cell_type": "code",
   "execution_count": 22,
   "id": "be6c0d88",
   "metadata": {},
   "outputs": [
    {
     "name": "stdout",
     "output_type": "stream",
     "text": [
      "Среднее значение mean_exam_points среди записей где qualification = 1.0 составляет: 55.92\n",
      "Среднее значение mean_exam_points среди записей где qualification = 2.0 составляет: 65.06\n",
      "Среднее значение mean_exam_points среди записей где qualification = 3.0 составляет: 83.49\n",
      "Среднее значение mean_exam_points среди записей где qualification = 4.0 составляет: 84.66\n",
      "Коэффицент корреляции Пирсона для признаков:  0.76\n"
     ]
    }
   ],
   "source": [
    "target_feature_chek(df_train, \"qualification\")"
   ]
  },
  {
   "cell_type": "code",
   "execution_count": 23,
   "id": "4f4eae66",
   "metadata": {},
   "outputs": [
    {
     "name": "stdout",
     "output_type": "stream",
     "text": [
      "Среднее значение mean_exam_points среди записей где physics = 0.0 составляет: 62.37\n",
      "Среднее значение mean_exam_points среди записей где physics = 1.0 составляет: 67.62\n",
      "Коэффицент корреляции Пирсона для признаков:  0.19\n",
      "-------------------------------------------\n",
      "Среднее значение mean_exam_points среди записей где chemistry = 0.0 составляет: 64.25\n",
      "Среднее значение mean_exam_points среди записей где chemistry = 1.0 составляет: 64.96\n",
      "Коэффицент корреляции Пирсона для признаков:  0.02\n",
      "-------------------------------------------\n",
      "Среднее значение mean_exam_points среди записей где biology = 0.0 составляет: 64.23\n",
      "Среднее значение mean_exam_points среди записей где biology = 1.0 составляет: 65.23\n",
      "Коэффицент корреляции Пирсона для признаков:  0.02\n",
      "-------------------------------------------\n",
      "Среднее значение mean_exam_points среди записей где english = 0.0 составляет: 64.3\n",
      "Среднее значение mean_exam_points среди записей где english = 1.0 составляет: 65.09\n",
      "Коэффицент корреляции Пирсона для признаков:  0.01\n",
      "-------------------------------------------\n",
      "Среднее значение mean_exam_points среди записей где geography = 0.0 составляет: 64.31\n",
      "Среднее значение mean_exam_points среди записей где geography = 1.0 составляет: 65.41\n",
      "Коэффицент корреляции Пирсона для признаков:  0.01\n",
      "-------------------------------------------\n",
      "Среднее значение mean_exam_points среди записей где history = 0.0 составляет: 64.34\n",
      "Среднее значение mean_exam_points среди записей где history = 1.0 составляет: 64.33\n",
      "Коэффицент корреляции Пирсона для признаков:  -0.0\n",
      "-------------------------------------------\n"
     ]
    }
   ],
   "source": [
    "#Как видно признак qualification довольно сильно коррелирует с целевой переменной. \n",
    "#Сделаем подобную оценку с другими булевыми признаками (physics, chemistry, biology, english, geography, history)\n",
    "\n",
    "feautures = [\"physics\", \"chemistry\", \"biology\", \"english\", \"geography\", \"history\"]\n",
    "\n",
    "for feauture in feautures:\n",
    "    target_feature_chek(df_train, feauture)\n",
    "    print(\"-------------------------------------------\")"
   ]
  },
  {
   "cell_type": "code",
   "execution_count": 24,
   "id": "c583405b",
   "metadata": {},
   "outputs": [],
   "source": [
    "#Теперь оценим числовые признаки.\n",
    "#Для этого реализуем функцию выводящую график зависимости одного параметра от другого.\n",
    "\n",
    "def get_graph_dependency(df, target, *args, **kwargs):\n",
    "    quantiles = [i/100 for i in range(0,101)]\n",
    "    for feature in args:\n",
    "        feature_quantiles = np.unique(df[feature].quantile(quantiles).values)\n",
    "        \n",
    "        X_value = []\n",
    "        Y_value = []\n",
    "        \n",
    "        fig, ax = plt.subplots(nrows=1, ncols=1)\n",
    "        fig.set_size_inches(8, 6)\n",
    "        \n",
    "        for x_0, x_1 in zip(feature_quantiles,feature_quantiles[1:]):\n",
    "            \n",
    "            x = df[(df[feature] >= x_0) & (df[feature] < x_1)][[feature, target]].mean().values\n",
    "            \n",
    "            X_value.append(x[0])\n",
    "            Y_value.append(x[1])\n",
    "            \n",
    "        corr = correlation(df, feature, target)\n",
    "        \n",
    "        ax.plot(X_value, Y_value, label=f'{feature}. correlation: {corr}')      \n",
    "        ax.set_xlabel(\"feature\")\n",
    "        ax.set_ylabel(f\"{target}\")\n",
    "        ax.legend() "
   ]
  },
  {
   "cell_type": "code",
   "execution_count": 25,
   "id": "8d9b7f89",
   "metadata": {
    "scrolled": true
   },
   "outputs": [
    {
     "data": {
      "image/png": "[encoded data removed]",
      "text/plain": [
       "<Figure size 576x432 with 1 Axes>"
      ]
     },
     "metadata": {
      "needs_background": "light"
     },
     "output_type": "display_data"
    },
    {
     "data": {
      "image/png": "[encoded data removed]",
      "text/plain": [
       "<Figure size 576x432 with 1 Axes>"
      ]
     },
     "metadata": {
      "needs_background": "light"
     },
     "output_type": "display_data"
    },
    {
     "data": {
      "image/png": "[encoded data removed]",
      "text/plain": [
       "<Figure size 576x432 with 1 Axes>"
      ]
     },
     "metadata": {
      "needs_background": "light"
     },
     "output_type": "display_data"
    }
   ],
   "source": [
    "get_graph_dependency(df_train, \"mean_exam_points\", 'lesson_price', 'age', \"years_of_experience\")"
   ]
  },
  {
   "cell_type": "markdown",
   "id": "6c2c8e2f",
   "metadata": {},
   "source": [
    "    Как видно признак lesson_price от минимума до 1500 не особо связан с целевой переменной, а вот дальше довольно сильно коррелирует с ней.\n",
    "    Признак age покрайне мере явно не виляет на целевую переменную.\n",
    "    Признак years_of_experience начиная с 2 так же коррелирует с целевой переменной хоть и довольно слабо. "
   ]
  },
  {
   "cell_type": "markdown",
   "id": "f50b294c",
   "metadata": {},
   "source": [
    "Каких-либо заметных выбросов в данных не набюлюдается. Так что приступим к посторению базовых моделей. Используем в них все текущие признаки за исключением id который явно не несет смысловой нагрузки. После оценки метрики базовых моделей, будем стремиться минимизировать ошибку, путем манипуляций с данными, гиперпараметрами и т д. \n",
    "    \n",
    "       Для итоговой оценки будет использоваться коэффицент детерминации и MSE в качестве дополнительной метрики."
   ]
  },
  {
   "cell_type": "markdown",
   "id": "ebb07ece",
   "metadata": {},
   "source": [
    "### Линейная модель. Подготовка данных. Создание необходимых вспомогательных функций."
   ]
  },
  {
   "cell_type": "code",
   "execution_count": 26,
   "id": "146b1bfa",
   "metadata": {},
   "outputs": [],
   "source": [
    "# Выделение призанков и целевой переменный в соответсвующие переменные.\n",
    "df_train = df_train[df_train.columns[1:]]\n",
    "df_test = df_test[df_test.columns[1:]]\n",
    "\n",
    "\n",
    "\n",
    "# Разделение выборки на тестовую и тренировочную \n",
    "X_train, X_test, y_train, y_test = train_test_split(df_train[df_train.columns[:-1]], df_train[df_train.columns[-1]], test_size=0.3, random_state=42)"
   ]
  },
  {
   "cell_type": "code",
   "execution_count": 27,
   "id": "7f7ba9d4",
   "metadata": {},
   "outputs": [],
   "source": [
    "#Вычисление функции ошибки MSE\n",
    "\n",
    "def mse(y, y_pred):\n",
    "    result = sum((y - y_pred)**2)/y.shape[0]\n",
    "    return result"
   ]
  },
  {
   "cell_type": "code",
   "execution_count": 28,
   "id": "a2566458",
   "metadata": {},
   "outputs": [],
   "source": [
    "#Вычисление коэффицента детерминации r2\n",
    "\n",
    "def coef_determination(y, y_pred):\n",
    "    n = y.shape[0]\n",
    "    mean_y = y.mean()\n",
    "    mse_const = mse(y, mean_y)\n",
    "    mse_model = mse(y, y_pred)\n",
    "    determination = 1 - (mse_model / mse_const)\n",
    "    return determination"
   ]
  },
  {
   "cell_type": "code",
   "execution_count": 29,
   "id": "e2dfc270",
   "metadata": {},
   "outputs": [],
   "source": [
    "#Нормализация признаков\n",
    "\n",
    "def norm(data):\n",
    "    columns = data.columns\n",
    "    \n",
    "    norm_data = data.copy()\n",
    "    \n",
    "    for i in columns:\n",
    "        min_data = norm_data[i].min()\n",
    "        max_data = norm_data[i].max()\n",
    "        norm_data[i] = (norm_data[i] - min_data)/(max_data - min_data)\n",
    "            \n",
    "    return norm_data"
   ]
  },
  {
   "cell_type": "code",
   "execution_count": 30,
   "id": "cbf39e96",
   "metadata": {},
   "outputs": [],
   "source": [
    "#Стандартизация признаков\n",
    "\n",
    "def standart(data):\n",
    "    columns = data.columns\n",
    "    n  = data.shape[0]\n",
    "    \n",
    "    standart_data = data.copy()\n",
    "    \n",
    "    for i in columns:\n",
    "        mean = np.mean(standart_data[i])\n",
    "        stdev = np.sqrt(sum((standart_data[i]-mean)**2)/n)\n",
    "        \n",
    "        standart_data[i] = (standart_data[i] - mean)/stdev\n",
    "    \n",
    "    return standart_data"
   ]
  },
  {
   "cell_type": "markdown",
   "id": "df611641",
   "metadata": {},
   "source": [
    "#### Получение нормализованных признаков."
   ]
  },
  {
   "cell_type": "code",
   "execution_count": 31,
   "id": "ebb49b97",
   "metadata": {},
   "outputs": [],
   "source": [
    "n_X_train = norm(X_train)\n",
    "n_X_test = norm(X_test)"
   ]
  },
  {
   "cell_type": "markdown",
   "id": "645ee059",
   "metadata": {},
   "source": [
    "### Создание модели градиентного бустинга"
   ]
  },
  {
   "cell_type": "code",
   "execution_count": 98,
   "id": "40ffa1fc",
   "metadata": {},
   "outputs": [],
   "source": [
    "#Создаем класс линейной модели\n",
    "\n",
    "class Linear_model:\n",
    "    best_W = None\n",
    "    best_error = None\n",
    "    iteration = None\n",
    "    \n",
    "    #Создание объекта класса линейной модели. Установка гиперпараметров.\n",
    "    def __init__(self, alpha=0.001, iterations=10000, stop_value=0.0001, print_param = False):\n",
    "        self.alpha = alpha\n",
    "        self.iterations = iterations\n",
    "        self.stop_value = stop_value\n",
    "        self.print_param = print_param\n",
    "        \n",
    "    #Функция обучения модели (Вычисление оптимальных весов W с заданными параметрами)\n",
    "    def fit(self, data, target):\n",
    "        data = data.copy()\n",
    "        #if np.any(data.max() > 1):\n",
    "            #data = norm(data)\n",
    "        #Задание начальных нулевых весов\n",
    "        W = np.ones(data.shape[1], dtype=float)\n",
    "        n = data.shape[0]\n",
    "        data = np.array(data)\n",
    "        target =  np.array(target)\n",
    "        for i in tqdm(range(self.iterations)):\n",
    "            iteration = i\n",
    "            #Вычисление промежуточных предсказаний до обновления весов\n",
    "            y_pred = np.dot(data, W)\n",
    "            \n",
    "            #Вычисление промежуточной ошибки до обновления весов\n",
    "            error = mse(target, y_pred)\n",
    "            \n",
    "            \n",
    "            old_W = W\n",
    "            #Обновление весов\n",
    "            W -= (self.alpha * 2 * np.dot(data.T, (y_pred - target))) / n\n",
    "    \n",
    "            #Вычисление промежуточных предсказаний после обновления весов\n",
    "            new_y_pred = np.dot(data, W)\n",
    "            #Вычисление промежуточной ошибки после обновления весов\n",
    "            new_error = mse(target, new_y_pred)\n",
    "\n",
    "            #Условие остановки если прирост качества меньше минимального\n",
    "            if error - new_error < self.stop_value:\n",
    "                break\n",
    "                \n",
    "        #Вычисление и вывод ошибок для тренеровочной выборки и предсказаний, а так же параметров модели.       \n",
    "        coef_determ = coef_determination(target, y_pred)\n",
    "        \n",
    "        if self.print_param:\n",
    "            print(f'End iteration:{iteration+1}')        \n",
    "            print(f'End MSE:{error}')\n",
    "            print(f'R2 for train data:{coef_determ}')\n",
    "            print(f'Params: alpha={self.alpha}, stop_value={self.stop_value}, max_iteration={self.iterations}')\n",
    "            print(f'W:{old_W}')\n",
    "\n",
    "        self.best_W = old_W\n",
    "        self.best_error = error\n",
    "        self.iteration = iteration\n",
    "\n",
    "\n",
    "    #Функция получения предсказаний модели.\n",
    "    def predict(self, data, target=None):\n",
    "        result = np.dot(data, self.best_W)\n",
    "        \n",
    "        #Вывод ошибок для тестовой выборки еслии она есть.\n",
    "        if target is not None:\n",
    "            mse_test = mse(target, result)\n",
    "            coef_determ_test = coef_determination(target, result)\n",
    "            \n",
    "            if self.print_param:\n",
    "                print(f\"MSE for test data:{mse_test}\")\n",
    "                print(f\"R2 for test data:{coef_determ_test}\")\n",
    "                \n",
    "            self.mse_test = mse_test\n",
    "            self.coef_determ_test = coef_determ_test\n",
    "        \n",
    "        return result"
   ]
  },
  {
   "cell_type": "markdown",
   "id": "570ece32",
   "metadata": {},
   "source": [
    "#### Работа модели на стоковых данных"
   ]
  },
  {
   "cell_type": "code",
   "execution_count": 99,
   "id": "ab1213c8",
   "metadata": {},
   "outputs": [
    {
     "name": "stderr",
     "output_type": "stream",
     "text": [
      "  0%|                                                                                        | 0/10000 [00:00<?, ?it/s]"
     ]
    },
    {
     "name": "stdout",
     "output_type": "stream",
     "text": [
      "End iteration:1\n",
      "End MSE:3113819.915714286\n",
      "R2 for train data:-16928.235892733694\n",
      "Params: alpha=0.001, stop_value=0.0001, max_iteration=10000\n",
      "W:[-1.53488238e+02 -6.20801771e+00 -6.28306293e+03 -5.45144943e+00\n",
      " -2.52681429e-01  5.59168571e-01  6.29806000e-01  8.21109143e-01\n",
      "  8.90577714e-01  9.36356857e-01]\n",
      "MSE for test data:124237307847019.9\n",
      "R2 for test data:-684196644330.7776\n"
     ]
    },
    {
     "name": "stderr",
     "output_type": "stream",
     "text": [
      "\n"
     ]
    },
    {
     "data": {
      "text/plain": [
       "array([ -9745819.09853228,  -5975999.39701486, -10688751.977736  , ...,\n",
       "        -8174740.99374571, -13830128.69332857,  -8174900.69000143])"
      ]
     },
     "execution_count": 99,
     "metadata": {},
     "output_type": "execute_result"
    }
   ],
   "source": [
    "model1 = Linear_model(print_param=True)\n",
    "model1.fit(X_train, y_train)\n",
    "model1.predict(X_test, y_test)"
   ]
  },
  {
   "cell_type": "markdown",
   "id": "dd31bb5d",
   "metadata": {},
   "source": [
    "Как видно на стоковых данных все очень плохо модель просто не работает."
   ]
  },
  {
   "cell_type": "markdown",
   "id": "291c37be",
   "metadata": {},
   "source": [
    "### Работа модели на нормализованных данных"
   ]
  },
  {
   "cell_type": "code",
   "execution_count": 100,
   "id": "9c0e57e1",
   "metadata": {},
   "outputs": [
    {
     "name": "stderr",
     "output_type": "stream",
     "text": [
      " 76%|████████████████████████████████████████████████████████▋                  | 22653/30000 [00:31<00:10, 719.02it/s]"
     ]
    },
    {
     "name": "stdout",
     "output_type": "stream",
     "text": [
      "End iteration:22654\n",
      "End MSE:145.6757062757954\n",
      "R2 for train data:0.20798939497507696\n",
      "Params: alpha=0.005, stop_value=0.0001, max_iteration=30000\n",
      "W:[30.86102409  5.23408682 98.01356679  2.6282759   8.56776209  2.56596295\n",
      "  3.48807821  3.58930203  1.83417565  1.73506729]\n",
      "MSE for test data:145.50254427549507\n",
      "R2 for test data:0.1986919689404909\n"
     ]
    },
    {
     "name": "stderr",
     "output_type": "stream",
     "text": [
      "\n"
     ]
    },
    {
     "data": {
      "text/plain": [
       "array([54.20582451, 52.42541356, 58.78093624, ..., 51.72021959,\n",
       "       80.3204269 , 52.98758533])"
      ]
     },
     "execution_count": 100,
     "metadata": {},
     "output_type": "execute_result"
    }
   ],
   "source": [
    "model1 = Linear_model(alpha=0.005, iterations=30000, stop_value=0.0001, print_param=True)\n",
    "model1.fit(n_X_train, y_train)\n",
    "model1.predict(n_X_test, y_test)"
   ]
  },
  {
   "cell_type": "markdown",
   "id": "af0113f6",
   "metadata": {},
   "source": [
    "На нормализованных стоковых данных уже имеется какой-то результат. Хоть он и не слишком хорош, но по крайне мере модель работает. В дальнейшем постараемся улучшить качество её предсказаний."
   ]
  },
  {
   "cell_type": "markdown",
   "id": "99389ad1",
   "metadata": {},
   "source": [
    "### Модель случайного леса."
   ]
  },
  {
   "cell_type": "code",
   "execution_count": 147,
   "id": "7e5e3729",
   "metadata": {},
   "outputs": [],
   "source": [
    "# Модель случайного леса\n",
    "\n",
    "# Реализуем класс узла\n",
    "class Node:\n",
    "\n",
    "    def __init__(self, index, t, true_branch, false_branch):\n",
    "        self.index = index  # индекс признака, по которому ведется сравнение с порогом в этом узле\n",
    "        self.t = t  # значение порога\n",
    "        self.true_branch = true_branch  # поддерево, удовлетворяющее условию в узле\n",
    "        self.false_branch = false_branch  # поддерево, не удовлетворяющее условию в узле\n",
    "\n",
    "\n",
    "# Реализуем класс терминального узла (листа)\n",
    "class Leaf:\n",
    "\n",
    "    def __init__(self, data, labels):\n",
    "        self.data = data\n",
    "        self.labels = labels\n",
    "        self.prediction = self.predict(labels)\n",
    "\n",
    "    def predict(self, labels):\n",
    "        pred = labels.mean()\n",
    "        return pred\n",
    "\n",
    "\n",
    "class Random_forest1:\n",
    "    np.random.seed(42)\n",
    "\n",
    "    # Создание обьекта модели. Установка параметров модели.\n",
    "    def __init__(self, tree_counts=5, max_deep_tree=15, min_items_for_leaf=10, checking_progress=False,\n",
    "                 checking_main_progress=False):\n",
    "        self.tree_counts = tree_counts  # Количество деревьев в лесе\n",
    "        self.max_deep_tree = max_deep_tree  # Максимальная глубина дерева\n",
    "        self.min_items_for_leaf = min_items_for_leaf  # Минимальное количество обьектов в листе\n",
    "        self.checking_progress = checking_progress\n",
    "        self.checking_main_progress = checking_main_progress\n",
    "        if self.checking_progress or self.checking_main_progress:\n",
    "            print(\n",
    "                f'Параметры модели: \\n Колличество деревьев:{self.tree_counts}\\n Максимальная глубина дерева:{max_deep_tree}\\n Минимальное колличество объектов в листе:{self.min_items_for_leaf}')\n",
    "\n",
    "    # Создание bootstrap выборок\n",
    "    def _get_bootstrap(self, data):\n",
    "        bootstrap = []  # Список куда будут заноситься индексы объектов которые попадут в выборку.\n",
    "        n_samples = data.shape[0]  # Определение длинны выборки\n",
    "        index = data.index.values  # Получение всех индексов из общего датасета\n",
    "        for i in range(self.tree_counts):  # Итерация по количеству деревьев\n",
    "            if self.checking_progress:\n",
    "                print(f'Получение индексов для bootstrap выборок: {i + 1}/{self.tree_counts}')\n",
    "            b_data_list = []  # Список с индексами для одного дерева\n",
    "            for j in range(n_samples):  # Итерация по количеству обьектов в однйо выборке\n",
    "                sample_index = np.random.randint(n_samples)  # Определение случайного числа\n",
    "                b_data = index[sample_index]  # Выбор случайного индекса из списка всех индексов\n",
    "                b_data_list.append(b_data)  # Добовление этого индекса в соотвествующий список\n",
    "            bootstrap.append(b_data_list)  # Добовление листа с индексами в соответсвующий список\n",
    "\n",
    "        return bootstrap\n",
    "\n",
    "    # Функция расчета дисперсии\n",
    "    def _disp(self, data):\n",
    "        n = data.shape[0]\n",
    "        mean = data.mean()\n",
    "        disp = ((data - mean) ** 2).mean()\n",
    "\n",
    "        return disp\n",
    "\n",
    "    # Функция расчета качества\n",
    "    def _qualit(self, data, l_branch, r_branch):\n",
    "\n",
    "        # Определение дисперсии данных\n",
    "        data_disp = self._disp(data)\n",
    "        r_branch_disp = self._disp(r_branch)\n",
    "        l_branch_disp = self._disp(l_branch)\n",
    "\n",
    "        # Определение размерности данных\n",
    "        n = data.shape[0]\n",
    "        n_left = l_branch.shape[0]\n",
    "        n_right = r_branch.shape[0]\n",
    "\n",
    "        # Вычисление ошибки\n",
    "        Q = data_disp - (n_left / n) * r_branch_disp - (n_right / n) * l_branch_disp\n",
    "\n",
    "        return Q\n",
    "\n",
    "    # Функция разделения выборки на подвыборки\n",
    "    def _split(self, t, data, colomn_name):\n",
    "\n",
    "        # Определение индексов для выборок которые удволетворяют и неудволетворяют условию разделения\n",
    "        left_index = data[data[colomn_name] <= t].index\n",
    "        right_index = data[data[colomn_name] > t].index\n",
    "\n",
    "        # Разделение выборки по полученным индексам\n",
    "        true_data = self.full_data.iloc[left_index]\n",
    "        false_data = self.full_data.iloc[right_index]\n",
    "        true_target = self.full_labels.iloc[left_index]\n",
    "        false_target = self.full_labels.iloc[right_index]\n",
    "\n",
    "        return true_data, false_data, true_target, false_target\n",
    "\n",
    "    # Функция нахождения лучших параметров для разделения\n",
    "    def _find_best_split(self, data, target):\n",
    "        columns = data.columns\n",
    "        best_quality = 0\n",
    "        best_t = None\n",
    "        best_index = None\n",
    "\n",
    "        # Итерация по признакам\n",
    "        for colomn in columns:\n",
    "\n",
    "            t_list = np.unique(data[colomn])\n",
    "\n",
    "            # Итерация по уникальным значениям признака\n",
    "            for t in t_list:\n",
    "                true_data, false_data, true_labels, false_labels = self._split(t=t, data=data,\n",
    "                                                                               colomn_name=colomn)\n",
    "                # Пропуск если в листе оказалось меньше минимального количества обьектов\n",
    "                if true_data.shape[0] < self.min_items_for_leaf or false_data.shape[0] < self.min_items_for_leaf:\n",
    "                    continue\n",
    "                # Вычисление точности при выбранном признаке и значении\n",
    "                current_quality = self._qualit(target, true_labels, false_labels)\n",
    "\n",
    "                # Замена параметров для узла если точность превосходит предыдущюю\n",
    "                if current_quality > best_quality:\n",
    "                    best_quality, best_t, best_index = current_quality, t, colomn\n",
    "\n",
    "        return best_quality, best_t, best_index\n",
    "\n",
    "    # Функция построения дерева\n",
    "    def _build_tree(self, data, target, leaf_count, deep=1):\n",
    "\n",
    "        if self.checking_progress:\n",
    "            print(f\"\\nОпределение параметров разделения. Глубина:{deep}, Обеъктов в узле: {target.shape[0]}\")\n",
    "        quality, t, index = self._find_best_split(data, target)  # получение параметров разделения\n",
    "\n",
    "        # Остановка построения ветки если достигнута максимальная глубина\n",
    "        if deep > self.max_deep_tree:\n",
    "            self.leaf_count += 1\n",
    "            if data.shape[0] > self.max_objet:\n",
    "                self.max_objet = data.shape[0]\n",
    "            if self.checking_progress:\n",
    "                print(f\"\\nДостигнута максимальная глубина дерева. Остановка построения ветки\\n\")\n",
    "            return Leaf(data, target)\n",
    "\n",
    "        # Остановка построения ветки если нет прироста точности\n",
    "        if quality == 0:\n",
    "            self.leaf_count += 1\n",
    "            if data.shape[0] > self.max_objet:\n",
    "                self.max_objet = data.shape[0]\n",
    "            if self.checking_progress:\n",
    "                print(f\"\\nОтсутсвие прироста качества. Остановка построения ветки\\n\")\n",
    "            return Leaf(data, target)\n",
    "\n",
    "        if self.checking_progress:\n",
    "            print(f\"Параметры выбраны. Признак: {index} , Занчение: {t}\")\n",
    "\n",
    "        if self.max_deep <= deep:\n",
    "            self.max_deep = deep\n",
    "        # Разделение выборки\n",
    "        true_data, false_data, true_labels, false_labels = self._split(t, data, index)\n",
    "\n",
    "        # Рекурсивное построение дерева на разделенных выборках\n",
    "        true_branch = self._build_tree(true_data, true_labels, deep=(deep + 1), leaf_count=self.leaf_count)\n",
    "        false_branch = self._build_tree(false_data, false_labels, deep=(deep + 1), leaf_count=self.leaf_count)\n",
    "\n",
    "        return Node(index, t, true_branch, false_branch)\n",
    "\n",
    "    # Функция обучения модели\n",
    "    def fit(self, data, labels):\n",
    "\n",
    "        # Задание полных данных\n",
    "        self.full_data = data\n",
    "        self.full_labels = labels\n",
    "\n",
    "        forest = []  # Создание списка с деревьями\n",
    "\n",
    "        bootstrap = self._get_bootstrap(data)  # Получние бутстрап выборок\n",
    "        all_index = data.index  # Получение индексов всех данных\n",
    "        out_of_bag_index = []  # Создание списка, куда будут помещены индксы, не использовавшиеся в обучении деревьев\n",
    "        n = 0\n",
    "        for index in bootstrap:  # Итерация по количеству бутстрап выборок (деревьев)\n",
    "            n += 1\n",
    "            if self.checking_progress:\n",
    "\n",
    "                print(f'\\nНачало обучение дерва №{n} из {len(bootstrap)}\\n')\n",
    "\n",
    "            dont_use_data_index = []  # Создание листа куда заносятся индексы не использовавшиеся в конкретном дереве\n",
    "\n",
    "            # Выбор тех индексов из всех индексов, котрых нет в бутстрап выборке\n",
    "\n",
    "            if self.checking_progress:\n",
    "                print(f'Получение индексов для тестовой выборки')\n",
    "            for i in all_index:\n",
    "                if i not in index:\n",
    "                    dont_use_data_index.append(i)\n",
    "\n",
    "            b_data = data.iloc[index]  # Выбор бутстрап выборки из всех данных по соответсвующим индексам\n",
    "            b_labels = labels.iloc[index]  # Выбор целевых переменных от этих данных\n",
    "            if self.checking_main_progress or self.checking_progress:\n",
    "                print(f\"----------------Построение дерева №{n}--------------------------------\")\n",
    "                self.leaf_count = 0\n",
    "                self.max_deep = 0\n",
    "                self.max_objet = 0\n",
    "            forest.append(\n",
    "                self._build_tree(b_data, b_labels, leaf_count=0))  # Построение дерева по одной бутстрап выборке\n",
    "            if self.checking_main_progress or self.checking_progress:\n",
    "                print(f\"\\n\\n----------------Дерево №{n} построено--------------------------------\\n\\n\")\n",
    "                print(f'Максимальная глубина: {self.max_deep} | Колличество листьев: {self.leaf_count} | Максимум объектов в одном листе: {self.max_objet}')\n",
    "            out_of_bag_index.append \\\n",
    "                (dont_use_data_index)  # Добовление индексов не использовавшихся в этом дереве в соответвующий список\n",
    "\n",
    "        self._out_of_bag(forest, out_of_bag_index)  # Проверка качества модели методом out of bag\n",
    "        self.forest = forest  # Сохранение созданного леса\n",
    "\n",
    "    # Функция расчета ошибки out of bag\n",
    "    def _out_of_bag(self, forest, test_data_index):\n",
    "\n",
    "        if self.checking_main_progress or self.checking_progress:\n",
    "            print(\"Обучение завершено. Расчет ошибки модели\")\n",
    "        n = len(test_data_index)  # Определение длинны тестовых данных\n",
    "        mse_err = 0\n",
    "        coef_determ = 0\n",
    "        k = 0\n",
    "        for indexs, tree in zip(test_data_index,\n",
    "                                forest):  # Итерация по деревьям и листам с индексами данных неиспользованных в этих деревьях\n",
    "            k += 1\n",
    "            if self.checking_progress:\n",
    "                print(f'Расчет ошибки для дерева №{k} из {n}\\n')\n",
    "\n",
    "            test_data = self.full_data.iloc[indexs]  # Получение тестового датасета по неиспользовавшимся индексам\n",
    "            predict = self._predict_one_tree(test_data, tree)  # Получение предсказаний для тестовых данных\n",
    "            test_labels = self.full_labels.iloc[indexs]  # Получение целевой переменной для тестовых данных\n",
    "            err = mse(test_labels, predict)  # Вычисление MSE для дерева\n",
    "            mse_err += err  # добавление ошибки MSE к счетчику\n",
    "            determ = coef_determination(test_labels, predict)  # Вычисление коэффциента детерминации для дерева\n",
    "            coef_determ += determ  # добавление коэффциента детерминации к счетчику\n",
    "            if self.checking_main_progress == True:\n",
    "                print(f'MSE для дерева №{k} из {n} = {err}')\n",
    "                print(f'Коэффицент детерминации для дерева №{k} из {n} = {determ}\\n')\n",
    "\n",
    "        mse_err = mse_err / n  # Вычисление средней MSE по лесу\n",
    "        coef_determ = coef_determ / n  # Вычисление среднего коэффицента детерминации по лесу\n",
    "\n",
    "        self.coef_determ = coef_determ\n",
    "\n",
    "        # Вывод ошибок\n",
    "        if self.checking_main_progress or self.checking_progress:\n",
    "            print(f'Расчет ошибки завершен.\\nСредний MSE для леса:{mse_err}')\n",
    "            print(f'Средний коэффицент детерминации для леса:{coef_determ}\\n')\n",
    "\n",
    "    def _classify_object(self, obj, node):\n",
    "        if isinstance(node, Leaf):\n",
    "            answer = round(node.prediction, 0)\n",
    "            return answer\n",
    "\n",
    "        if (obj[node.index] <= node.t).values:\n",
    "            return self._classify_object(obj, node.true_branch)\n",
    "        else:\n",
    "            return self._classify_object(obj, node.false_branch)\n",
    "\n",
    "    def _predict_one_tree(self, data, tree):\n",
    "        y_pred = []\n",
    "        n = data.shape[0]\n",
    "        for idx in range(n):\n",
    "            if idx == n:\n",
    "                break\n",
    "            obj = data[idx:idx + 1]\n",
    "            prediction = self._classify_object(obj, tree)\n",
    "            y_pred.append(prediction)\n",
    "        return y_pred\n",
    "\n",
    "    def predict(self, data):\n",
    "\n",
    "        forest = self.forest\n",
    "        # добавим предсказания всех деревьев в список\n",
    "        k = 0\n",
    "        n = len(forest)\n",
    "        predictions = []\n",
    "        for tree in forest:\n",
    "            if self.checking_main_progress or self.checking_progress:\n",
    "                k += 1\n",
    "                print(f'Получение предсказаний для дерева №{k} из {n}')\n",
    "\n",
    "            predictions.append(self._predict_one_tree(data, tree))\n",
    "\n",
    "        # сформируем список с предсказаниями для каждого объекта\n",
    "        predictions_per_object = list(zip(*predictions))\n",
    "\n",
    "        # выберем в качестве итогового предсказания для каждого объекта то,\n",
    "        # за которое проголосовало большинство деревьев\n",
    "        voted_predictions = []\n",
    "        for obj in tqdm(predictions_per_object):\n",
    "            voted_predictions.append(max(set(obj), key=obj.count))\n",
    "\n",
    "        return voted_predictions"
   ]
  },
  {
   "cell_type": "code",
   "execution_count": 63,
   "id": "ca4e6e4b",
   "metadata": {},
   "outputs": [
    {
     "name": "stdout",
     "output_type": "stream",
     "text": [
      "Параметры модели: \n",
      " Колличество деревьев:5\n",
      " Максимальная глубина дерева:15\n",
      " Минимальное колличество объектов в листе:10\n"
     ]
    }
   ],
   "source": [
    "model3 = Random_forest1(checking_main_progress=True)"
   ]
  },
  {
   "cell_type": "markdown",
   "id": "0dbe59d2",
   "metadata": {},
   "source": [
    "### Модель обучается довольно долго. Можно вывести прогресс обучения модели. Для полной информации задать параметр:  checking_progress=True. Для только основной информации: hecking_main_progress=True при создании класса."
   ]
  },
  {
   "cell_type": "code",
   "execution_count": 65,
   "id": "cb7ca2b7",
   "metadata": {},
   "outputs": [
    {
     "name": "stdout",
     "output_type": "stream",
     "text": [
      "----------------Построение дерева №1--------------------------------\n",
      "\n",
      "\n",
      "----------------Дерево №1 построено--------------------------------\n",
      "\n",
      "\n",
      "Максимальная глубина: 15 | Колличество листьев: 83 | Максимум объектов в одном листе: 5799\n",
      "----------------Построение дерева №2--------------------------------\n",
      "\n",
      "\n",
      "----------------Дерево №2 построено--------------------------------\n",
      "\n",
      "\n",
      "Максимальная глубина: 15 | Колличество листьев: 69 | Максимум объектов в одном листе: 5919\n",
      "----------------Построение дерева №3--------------------------------\n",
      "\n",
      "\n",
      "----------------Дерево №3 построено--------------------------------\n",
      "\n",
      "\n",
      "Максимальная глубина: 15 | Колличество листьев: 88 | Максимум объектов в одном листе: 5829\n",
      "----------------Построение дерева №4--------------------------------\n",
      "\n",
      "\n",
      "----------------Дерево №4 построено--------------------------------\n",
      "\n",
      "\n",
      "Максимальная глубина: 15 | Колличество листьев: 89 | Максимум объектов в одном листе: 5501\n",
      "----------------Построение дерева №5--------------------------------\n",
      "\n",
      "\n",
      "----------------Дерево №5 построено--------------------------------\n",
      "\n",
      "\n",
      "Максимальная глубина: 15 | Колличество листьев: 77 | Максимум объектов в одном листе: 7499\n",
      "Обучение завершено. Расчет ошибки модели\n",
      "MSE для дерева №1 из 5 = 78.84577434829998\n",
      "Коэффицент детерминации для дерева №1 из 5 = 0.5509332706957489\n",
      "\n",
      "MSE для дерева №2 из 5 = 72.63500106153501\n",
      "Коэффицент детерминации для дерева №2 из 5 = 0.6146608754385908\n",
      "\n",
      "MSE для дерева №3 из 5 = 83.24448826724739\n",
      "Коэффицент детерминации для дерева №3 из 5 = 0.5464845745917783\n",
      "\n",
      "MSE для дерева №4 из 5 = 75.57910015462681\n",
      "Коэффицент детерминации для дерева №4 из 5 = 0.5934531377562491\n",
      "\n",
      "MSE для дерева №5 из 5 = 130.99895122148848\n",
      "Коэффицент детерминации для дерева №5 из 5 = 0.26854491214508247\n",
      "\n",
      "Расчет ошибки завершен.\n",
      "Средний MSE для леса:88.26066301063955\n",
      "Средний коэффицент детерминации для леса:0.51481535412549\n",
      "\n"
     ]
    }
   ],
   "source": [
    "model3.fit(df_train[df_train.columns[:-1]], df_train[df_train.columns[-1]])"
   ]
  },
  {
   "cell_type": "markdown",
   "id": "6ee312fb",
   "metadata": {},
   "source": [
    "Как видно случайный лес даже на полностью стоковых данных вроде как справляется намного лучше линейной модели. Однако, как видно по максимальному колличеству объектов в листе 15 это очевдно очень сильное ограничение по глубине для этих данных. Дерево упирается в него, не успев корректно обработать большую часть данных. При работе с гиперпараметрами, решим эту проеблму."
   ]
  },
  {
   "cell_type": "markdown",
   "id": "782003fd",
   "metadata": {},
   "source": [
    "### KNN Модель"
   ]
  },
  {
   "cell_type": "code",
   "execution_count": 250,
   "id": "0c2cbb11",
   "metadata": {},
   "outputs": [],
   "source": [
    "class KNN_model:\n",
    "\n",
    "    # Создание обьекта модели. Установка параметров модели.\n",
    "    def __init__(self, train_data, train_target, count_of_neighbors=5, weighing=None):\n",
    "        self.count_of_neighbors = count_of_neighbors\n",
    "        self.weighing = weighing\n",
    "        self.train_data = train_data\n",
    "        self.train_target = train_target\n",
    "        self.columns_name = train_data.columns\n",
    "        self.len_train_data = train_data.shape[0]\n",
    "\n",
    "    def _e_metrics(self, x1, x2):\n",
    "        distance = 0\n",
    "        for column in self.columns_name:\n",
    "            distance += np.square(x1[column] - x2[column])\n",
    "\n",
    "        return np.sqrt(distance)\n",
    "\n",
    "    def predict(self, x_test, y_test=None):\n",
    "\n",
    "        len_test_data = x_test.shape[0]\n",
    "\n",
    "        answers = []\n",
    "        for idx_test in tqdm(range(len_test_data)):\n",
    "            test_distances = []\n",
    "\n",
    "            y = x_test.iloc[idx_test].values\n",
    "            distance = (self.train_data - y)**2\n",
    "            distance[\"distance\"] = (sum(distance.T.values))**0.5\n",
    "            distance[\"target\"] = self.train_target.values\n",
    "            distance = distance[[\"distance\", \"target\"]]\n",
    "            distance = distance.sort_values(\"distance\")[:5]\n",
    "\n",
    "\n",
    "            coef = [1 / 2 ** i for i in range(0, self.count_of_neighbors)]\n",
    "\n",
    "            # Если применено взвешивание по порядковому номеру\n",
    "            if self.weighing == \"number\":\n",
    "                start = distance[\"target\"][:1]\n",
    "                for d, c in zip(distance[\"target\"][1:], coef[1:]):\n",
    "                    if (d < start).values:\n",
    "                        start -= abs(start - d) * c\n",
    "                    elif (d > start).values:\n",
    "                        start += abs(start - d) * c\n",
    "                start = start.values[0]\n",
    "\n",
    "            # Если применено взвешивание по расстоянию\n",
    "            elif self.weighing == \"distance\":\n",
    "                start = distance[\"target\"][:1]\n",
    "                max_dist = distance['distance'].max() * 1.1\n",
    "                if max_dist == 0:\n",
    "                    max_dist = 0.01\n",
    "\n",
    "                for d, t in zip(distance['distance'][1:], distance[\"target\"][1:]):\n",
    "                    if (t < start).values:\n",
    "                        start -= abs(start - t) * (1 - d / max_dist)\n",
    "                    elif (t > start).values:\n",
    "                        start += abs(start - t) * (1 - d / max_dist)\n",
    "                start = start.values[0]\n",
    "            # Если взвешивание не применялось\n",
    "            else:\n",
    "                start = distance[\"target\"].mean()\n",
    "\n",
    "            # Записываем в список ответов наиболее часто встречающийся класс\n",
    "            answers.append(start)\n",
    "\n",
    "        if y_test is not None:\n",
    "            mse_err = mse(y_test, answers)\n",
    "            coef_determ = coef_determination(y_test, answers)\n",
    "\n",
    "            print(f'MSE для тестовой выборки: {mse_err}')\n",
    "            print(f'Коэффицент детерминации для тестовой выборки: {coef_determ}')\n",
    "            self.coef_determ = coef_determ\n",
    "\n",
    "        return answers"
   ]
  },
  {
   "cell_type": "code",
   "execution_count": 67,
   "id": "4229363d",
   "metadata": {},
   "outputs": [],
   "source": [
    "model3 = KNN_model(X_train, y_train)"
   ]
  },
  {
   "cell_type": "code",
   "execution_count": 68,
   "id": "cdd9df48",
   "metadata": {},
   "outputs": [
    {
     "name": "stderr",
     "output_type": "stream",
     "text": [
      "100%|█████████████████████████████████████████████████████████████████████████████| 3000/3000 [00:11<00:00, 262.43it/s]"
     ]
    },
    {
     "name": "stdout",
     "output_type": "stream",
     "text": [
      "MSE для тестовой выборки: 58.7696266666666\n",
      "Коэффицент детерминации для тестовой выборки: 0.6763453583244305\n"
     ]
    },
    {
     "name": "stderr",
     "output_type": "stream",
     "text": [
      "\n"
     ]
    }
   ],
   "source": [
    "m = model3.predict(X_test, y_test)"
   ]
  },
  {
   "cell_type": "code",
   "execution_count": 69,
   "id": "80a9d4d6",
   "metadata": {},
   "outputs": [
    {
     "data": {
      "text/plain": [
       "[45.0, 57.4, 59.4, 82.0, 85.6, 57.6, 82.6, 64.6, 63.4, 75.8]"
      ]
     },
     "execution_count": 69,
     "metadata": {},
     "output_type": "execute_result"
    }
   ],
   "source": [
    "m[:10]"
   ]
  },
  {
   "cell_type": "markdown",
   "id": "29a3407b",
   "metadata": {},
   "source": [
    "Как видно KNN модель уже показывает относительно неплохие результаты даже без каких либо дополнительных манипуляций."
   ]
  },
  {
   "cell_type": "markdown",
   "id": "167827bd",
   "metadata": {},
   "source": [
    "### Модифицирование данных"
   ]
  },
  {
   "cell_type": "markdown",
   "id": "18083b3e",
   "metadata": {},
   "source": [
    "Как было проверенно выше в датасете имеются признаки, которые кажутся не слишком полезными и из 10 признаков корреляцию с целевой переменной удалось обноружить только у 3х (lesson_price, years_of_experience, qualification). Попробуем использовать для обучения только их и посмотрим как это скажется на качестве моделей. "
   ]
  },
  {
   "cell_type": "code",
   "execution_count": 70,
   "id": "122f1cd8",
   "metadata": {},
   "outputs": [],
   "source": [
    "# Выбор наиболее полезных признаков в новый датасет\n",
    "modif_df_train = df_train.copy()[[\"years_of_experience\", \"lesson_price\", \"qualification\", \"mean_exam_points\"]]"
   ]
  },
  {
   "cell_type": "code",
   "execution_count": 71,
   "id": "56ad8acc",
   "metadata": {},
   "outputs": [],
   "source": [
    "# Разделение датасета с терми признаками на тренировочный и тестовый\n",
    "\n",
    "X_train_modif, X_test_modif, y_train, y_test = train_test_split(\n",
    "    modif_df_train[[\"years_of_experience\", \"lesson_price\", \"qualification\"]], \n",
    "    modif_df_train[\"mean_exam_points\"], \n",
    "    test_size=0.3, random_state=42)"
   ]
  },
  {
   "cell_type": "code",
   "execution_count": 72,
   "id": "28b28829",
   "metadata": {},
   "outputs": [],
   "source": [
    "# Нормализация данных с тремя признаками\n",
    "n_X_train_modif = norm(X_train_modif)\n",
    "n_X_test_modif = norm(X_test_modif)"
   ]
  },
  {
   "cell_type": "code",
   "execution_count": 101,
   "id": "7e559096",
   "metadata": {},
   "outputs": [
    {
     "name": "stderr",
     "output_type": "stream",
     "text": [
      " 59%|████████████████████████████████████████████                               | 17648/30000 [00:24<00:17, 711.50it/s]"
     ]
    },
    {
     "name": "stdout",
     "output_type": "stream",
     "text": [
      "End iteration:17649\n",
      "End MSE:216.68633941698857\n",
      "R2 for train data:-0.17808166625515076\n",
      "Params: alpha=0.005, stop_value=0.0001, max_iteration=30000\n",
      "W:[ 11.38021224 149.9959809  -16.05608888]\n",
      "MSE for test data:223.03161513346365\n",
      "R2 for test data:-0.2282742221210543\n"
     ]
    },
    {
     "name": "stderr",
     "output_type": "stream",
     "text": [
      "\n"
     ]
    },
    {
     "data": {
      "text/plain": [
       "array([55.26302115, 35.05706829, 63.79179644, ..., 43.99882106,\n",
       "       70.55826526, 45.26328909])"
      ]
     },
     "execution_count": 101,
     "metadata": {},
     "output_type": "execute_result"
    }
   ],
   "source": [
    "# Проверка линейной модели на данных с тремя признаками\n",
    "model1_m = Linear_model(alpha=0.005, iterations=30000, stop_value=0.0001, print_param=True)\n",
    "model1_m.fit(n_X_train_modif, y_train)\n",
    "model1_m.predict(n_X_test_modif, y_test)"
   ]
  },
  {
   "cell_type": "markdown",
   "id": "51bc6942",
   "metadata": {},
   "source": [
    "Как видно на градиентном спуске это сказалось плохо."
   ]
  },
  {
   "cell_type": "code",
   "execution_count": 75,
   "id": "7fbf084c",
   "metadata": {},
   "outputs": [
    {
     "name": "stdout",
     "output_type": "stream",
     "text": [
      "Параметры модели: \n",
      " Колличество деревьев:5\n",
      " Максимальная глубина дерева:15\n",
      " Минимальное колличество объектов в листе:10\n"
     ]
    }
   ],
   "source": [
    "# Проверка случайного леса на данных с тремя признаками\n",
    "model2_m = Random_forest1(checking_main_progress=True)"
   ]
  },
  {
   "cell_type": "code",
   "execution_count": 76,
   "id": "d2a68950",
   "metadata": {},
   "outputs": [
    {
     "name": "stdout",
     "output_type": "stream",
     "text": [
      "----------------Построение дерева №1--------------------------------\n",
      "\n",
      "\n",
      "----------------Дерево №1 построено--------------------------------\n",
      "\n",
      "\n",
      "Максимальная глубина: 15 | Колличество листьев: 77 | Максимум объектов в одном листе: 6245\n",
      "----------------Построение дерева №2--------------------------------\n",
      "\n",
      "\n",
      "----------------Дерево №2 построено--------------------------------\n",
      "\n",
      "\n",
      "Максимальная глубина: 15 | Колличество листьев: 44 | Максимум объектов в одном листе: 8946\n",
      "----------------Построение дерева №3--------------------------------\n",
      "\n",
      "\n",
      "----------------Дерево №3 построено--------------------------------\n",
      "\n",
      "\n",
      "Максимальная глубина: 15 | Колличество листьев: 51 | Максимум объектов в одном листе: 8665\n",
      "----------------Построение дерева №4--------------------------------\n",
      "\n",
      "\n",
      "----------------Дерево №4 построено--------------------------------\n",
      "\n",
      "\n",
      "Максимальная глубина: 15 | Колличество листьев: 54 | Максимум объектов в одном листе: 7587\n",
      "----------------Построение дерева №5--------------------------------\n",
      "\n",
      "\n",
      "----------------Дерево №5 построено--------------------------------\n",
      "\n",
      "\n",
      "Максимальная глубина: 15 | Колличество листьев: 56 | Максимум объектов в одном листе: 7626\n",
      "Обучение завершено. Расчет ошибки модели\n",
      "MSE для дерева №1 из 5 = 85.40208647915053\n",
      "Коэффицент детерминации для дерева №1 из 5 = 0.5260553007406548\n",
      "\n",
      "MSE для дерева №2 из 5 = 142.41330988659004\n",
      "Коэффицент детерминации для дерева №2 из 5 = 0.24871175135442625\n",
      "\n",
      "MSE для дерева №3 из 5 = 139.66269504450375\n",
      "Коэффицент детерминации для дерева №3 из 5 = 0.23751481273339803\n",
      "\n",
      "MSE для дерева №4 из 5 = 135.64748565516962\n",
      "Коэффицент детерминации для дерева №4 из 5 = 0.25792648793715045\n",
      "\n",
      "MSE для дерева №5 из 5 = 86.5994150960094\n",
      "Коэффицент детерминации для дерева №5 из 5 = 0.5268010204182719\n",
      "\n",
      "Расчет ошибки завершен.\n",
      "Средний MSE для леса:117.94499843228466\n",
      "Средний коэффицент детерминации для леса:0.35940187463678025\n",
      "\n"
     ]
    }
   ],
   "source": [
    "model2_m.fit(modif_df_train[[\"years_of_experience\", \"lesson_price\", \"qualification\"]], modif_df_train[\"mean_exam_points\"])"
   ]
  },
  {
   "cell_type": "code",
   "execution_count": 77,
   "id": "ce93e405",
   "metadata": {},
   "outputs": [],
   "source": [
    "# Создание датасета с 3мя признаками из датасета на котором нужно получить предсказания\n",
    "modif_df_test = df_test.copy()[[\"years_of_experience\", \"lesson_price\", \"qualification\"]]"
   ]
  },
  {
   "cell_type": "code",
   "execution_count": 78,
   "id": "fb4635a0",
   "metadata": {},
   "outputs": [
    {
     "name": "stderr",
     "output_type": "stream",
     "text": [
      "100%|████████████████████████████████████████████████████████████████████████| 10000/10000 [00:00<00:00, 634596.79it/s]\n"
     ]
    },
    {
     "data": {
      "text/plain": [
       "[56.42702702702703,\n",
       " 59.70152121697358,\n",
       " 59.70152121697358,\n",
       " 83.88732394366197,\n",
       " 87.28571428571429,\n",
       " 59.70152121697358,\n",
       " 59.70152121697358,\n",
       " 56.873333333333335,\n",
       " 59.70152121697358,\n",
       " 81.64069660861595]"
      ]
     },
     "execution_count": 78,
     "metadata": {},
     "output_type": "execute_result"
    }
   ],
   "source": [
    "# Проверка предсказаний случайного леса\n",
    "model2_m.predict(modif_df_test)[:10]"
   ]
  },
  {
   "cell_type": "markdown",
   "id": "c5e892db",
   "metadata": {},
   "source": [
    "Дерево решений немного ухудшило результат. Но это это опять связанно с макимальной глубиной, как видно модель стала успешнее разделять данные и ещё быстрее упираться в максимальную глубину."
   ]
  },
  {
   "cell_type": "code",
   "execution_count": 79,
   "id": "e203d942",
   "metadata": {},
   "outputs": [],
   "source": [
    "# Проверка KNN модели на данных с тремя признаками\n",
    "model3_m = KNN_model(X_train_modif, y_train)"
   ]
  },
  {
   "cell_type": "code",
   "execution_count": 81,
   "id": "fdb610e1",
   "metadata": {},
   "outputs": [
    {
     "name": "stderr",
     "output_type": "stream",
     "text": [
      "100%|█████████████████████████████████████████████████████████████████████████████| 3000/3000 [00:09<00:00, 302.00it/s]"
     ]
    },
    {
     "name": "stdout",
     "output_type": "stream",
     "text": [
      "MSE для тестовой выборки: 55.80034666666675\n",
      "Коэффицент детерминации для тестовой выборки: 0.6926977040673288\n"
     ]
    },
    {
     "name": "stderr",
     "output_type": "stream",
     "text": [
      "\n"
     ]
    },
    {
     "data": {
      "text/plain": [
       "[41.8, 57.0, 57.8, 80.0, 87.0, 51.4, 80.0, 69.4, 63.0, 74.6]"
      ]
     },
     "execution_count": 81,
     "metadata": {},
     "output_type": "execute_result"
    }
   ],
   "source": [
    "# Просмотр первых 10 предсказаний и качества KNN модели\n",
    "model3_m.predict(X_test_modif, y_test)[:10]"
   ]
  },
  {
   "cell_type": "markdown",
   "id": "5f309e5d",
   "metadata": {},
   "source": [
    "Для KNN модели качество тоже немного выросло."
   ]
  },
  {
   "cell_type": "markdown",
   "id": "d1e0343f",
   "metadata": {},
   "source": [
    "Впринципе теория подтверждается. Только эти три признака и являются полезными, остальные скорее создают лишний шум. \n",
    "Попробуем сгенерировать ещё признаки на основе этих трех. "
   ]
  },
  {
   "cell_type": "code",
   "execution_count": 82,
   "id": "d5bdb3e7",
   "metadata": {},
   "outputs": [],
   "source": [
    "# Пытаемся добавить новые признаки в данные\n",
    "modif_df_train2 = modif_df_train.copy()[[\"years_of_experience\", \"lesson_price\", \"qualification\"]]\n",
    "modif_df_test2 = modif_df_test.copy()"
   ]
  },
  {
   "cell_type": "code",
   "execution_count": 83,
   "id": "f350bc08",
   "metadata": {},
   "outputs": [],
   "source": [
    "# Функция генерации признаков\n",
    "def feature_generation(data):\n",
    "    data_m = data.copy()\n",
    "    columns = data.columns\n",
    "    for column in columns:\n",
    "        data_m[f'{column}_square'] = data_m[column]**2\n",
    "        data_m[f'{column}_disp'] = data_m[column] - data_m[column].mean()\n",
    "        for column_k in columns:\n",
    "            if column_k == column:\n",
    "                continue\n",
    "            data_m[f'{column}*{column_k}'] = data_m[column] * data_m[column_k]\n",
    "        \n",
    "    return data_m"
   ]
  },
  {
   "cell_type": "code",
   "execution_count": 84,
   "id": "377c4125",
   "metadata": {},
   "outputs": [],
   "source": [
    "# Получение датасетов с добавлением новых признаков\n",
    "modif_df_train2 = feature_generation(modif_df_train2)\n",
    "modif_df_test2 = feature_generation(modif_df_test2)"
   ]
  },
  {
   "cell_type": "code",
   "execution_count": 85,
   "id": "56991607",
   "metadata": {},
   "outputs": [
    {
     "data": {
      "text/html": [
       "<div>\n",
       "<style scoped>\n",
       "    .dataframe tbody tr th:only-of-type {\n",
       "        vertical-align: middle;\n",
       "    }\n",
       "\n",
       "    .dataframe tbody tr th {\n",
       "        vertical-align: top;\n",
       "    }\n",
       "\n",
       "    .dataframe thead th {\n",
       "        text-align: right;\n",
       "    }\n",
       "</style>\n",
       "<table border=\"1\" class=\"dataframe\">\n",
       "  <thead>\n",
       "    <tr style=\"text-align: right;\">\n",
       "      <th></th>\n",
       "      <th>years_of_experience</th>\n",
       "      <th>lesson_price</th>\n",
       "      <th>qualification</th>\n",
       "      <th>years_of_experience_square</th>\n",
       "      <th>years_of_experience_disp</th>\n",
       "      <th>years_of_experience*lesson_price</th>\n",
       "      <th>years_of_experience*qualification</th>\n",
       "      <th>lesson_price_square</th>\n",
       "      <th>lesson_price_disp</th>\n",
       "      <th>lesson_price*years_of_experience</th>\n",
       "      <th>lesson_price*qualification</th>\n",
       "      <th>qualification_square</th>\n",
       "      <th>qualification_disp</th>\n",
       "      <th>qualification*years_of_experience</th>\n",
       "      <th>qualification*lesson_price</th>\n",
       "    </tr>\n",
       "  </thead>\n",
       "  <tbody>\n",
       "    <tr>\n",
       "      <th>0</th>\n",
       "      <td>0.0</td>\n",
       "      <td>1400.0</td>\n",
       "      <td>1.0</td>\n",
       "      <td>0.0</td>\n",
       "      <td>-1.9868</td>\n",
       "      <td>0.0</td>\n",
       "      <td>0.0</td>\n",
       "      <td>1960000.0</td>\n",
       "      <td>-299.105</td>\n",
       "      <td>0.0</td>\n",
       "      <td>1400.0</td>\n",
       "      <td>1.0</td>\n",
       "      <td>-0.7195</td>\n",
       "      <td>0.0</td>\n",
       "      <td>1400.0</td>\n",
       "    </tr>\n",
       "    <tr>\n",
       "      <th>1</th>\n",
       "      <td>4.0</td>\n",
       "      <td>2850.0</td>\n",
       "      <td>3.0</td>\n",
       "      <td>16.0</td>\n",
       "      <td>2.0132</td>\n",
       "      <td>11400.0</td>\n",
       "      <td>12.0</td>\n",
       "      <td>8122500.0</td>\n",
       "      <td>1150.895</td>\n",
       "      <td>11400.0</td>\n",
       "      <td>8550.0</td>\n",
       "      <td>9.0</td>\n",
       "      <td>1.2805</td>\n",
       "      <td>12.0</td>\n",
       "      <td>8550.0</td>\n",
       "    </tr>\n",
       "    <tr>\n",
       "      <th>2</th>\n",
       "      <td>0.0</td>\n",
       "      <td>1200.0</td>\n",
       "      <td>1.0</td>\n",
       "      <td>0.0</td>\n",
       "      <td>-1.9868</td>\n",
       "      <td>0.0</td>\n",
       "      <td>0.0</td>\n",
       "      <td>1440000.0</td>\n",
       "      <td>-499.105</td>\n",
       "      <td>0.0</td>\n",
       "      <td>1200.0</td>\n",
       "      <td>1.0</td>\n",
       "      <td>-0.7195</td>\n",
       "      <td>0.0</td>\n",
       "      <td>1200.0</td>\n",
       "    </tr>\n",
       "    <tr>\n",
       "      <th>3</th>\n",
       "      <td>5.0</td>\n",
       "      <td>1400.0</td>\n",
       "      <td>1.0</td>\n",
       "      <td>25.0</td>\n",
       "      <td>3.0132</td>\n",
       "      <td>7000.0</td>\n",
       "      <td>5.0</td>\n",
       "      <td>1960000.0</td>\n",
       "      <td>-299.105</td>\n",
       "      <td>7000.0</td>\n",
       "      <td>1400.0</td>\n",
       "      <td>1.0</td>\n",
       "      <td>-0.7195</td>\n",
       "      <td>5.0</td>\n",
       "      <td>1400.0</td>\n",
       "    </tr>\n",
       "    <tr>\n",
       "      <th>4</th>\n",
       "      <td>1.0</td>\n",
       "      <td>1500.0</td>\n",
       "      <td>1.0</td>\n",
       "      <td>1.0</td>\n",
       "      <td>-0.9868</td>\n",
       "      <td>1500.0</td>\n",
       "      <td>1.0</td>\n",
       "      <td>2250000.0</td>\n",
       "      <td>-199.105</td>\n",
       "      <td>1500.0</td>\n",
       "      <td>1500.0</td>\n",
       "      <td>1.0</td>\n",
       "      <td>-0.7195</td>\n",
       "      <td>1.0</td>\n",
       "      <td>1500.0</td>\n",
       "    </tr>\n",
       "    <tr>\n",
       "      <th>...</th>\n",
       "      <td>...</td>\n",
       "      <td>...</td>\n",
       "      <td>...</td>\n",
       "      <td>...</td>\n",
       "      <td>...</td>\n",
       "      <td>...</td>\n",
       "      <td>...</td>\n",
       "      <td>...</td>\n",
       "      <td>...</td>\n",
       "      <td>...</td>\n",
       "      <td>...</td>\n",
       "      <td>...</td>\n",
       "      <td>...</td>\n",
       "      <td>...</td>\n",
       "      <td>...</td>\n",
       "    </tr>\n",
       "    <tr>\n",
       "      <th>9995</th>\n",
       "      <td>0.0</td>\n",
       "      <td>1700.0</td>\n",
       "      <td>2.0</td>\n",
       "      <td>0.0</td>\n",
       "      <td>-1.9868</td>\n",
       "      <td>0.0</td>\n",
       "      <td>0.0</td>\n",
       "      <td>2890000.0</td>\n",
       "      <td>0.895</td>\n",
       "      <td>0.0</td>\n",
       "      <td>3400.0</td>\n",
       "      <td>4.0</td>\n",
       "      <td>0.2805</td>\n",
       "      <td>0.0</td>\n",
       "      <td>3400.0</td>\n",
       "    </tr>\n",
       "    <tr>\n",
       "      <th>9996</th>\n",
       "      <td>0.0</td>\n",
       "      <td>1700.0</td>\n",
       "      <td>2.0</td>\n",
       "      <td>0.0</td>\n",
       "      <td>-1.9868</td>\n",
       "      <td>0.0</td>\n",
       "      <td>0.0</td>\n",
       "      <td>2890000.0</td>\n",
       "      <td>0.895</td>\n",
       "      <td>0.0</td>\n",
       "      <td>3400.0</td>\n",
       "      <td>4.0</td>\n",
       "      <td>0.2805</td>\n",
       "      <td>0.0</td>\n",
       "      <td>3400.0</td>\n",
       "    </tr>\n",
       "    <tr>\n",
       "      <th>9997</th>\n",
       "      <td>1.0</td>\n",
       "      <td>1250.0</td>\n",
       "      <td>1.0</td>\n",
       "      <td>1.0</td>\n",
       "      <td>-0.9868</td>\n",
       "      <td>1250.0</td>\n",
       "      <td>1.0</td>\n",
       "      <td>1562500.0</td>\n",
       "      <td>-449.105</td>\n",
       "      <td>1250.0</td>\n",
       "      <td>1250.0</td>\n",
       "      <td>1.0</td>\n",
       "      <td>-0.7195</td>\n",
       "      <td>1.0</td>\n",
       "      <td>1250.0</td>\n",
       "    </tr>\n",
       "    <tr>\n",
       "      <th>9998</th>\n",
       "      <td>3.0</td>\n",
       "      <td>1100.0</td>\n",
       "      <td>1.0</td>\n",
       "      <td>9.0</td>\n",
       "      <td>1.0132</td>\n",
       "      <td>3300.0</td>\n",
       "      <td>3.0</td>\n",
       "      <td>1210000.0</td>\n",
       "      <td>-599.105</td>\n",
       "      <td>3300.0</td>\n",
       "      <td>1100.0</td>\n",
       "      <td>1.0</td>\n",
       "      <td>-0.7195</td>\n",
       "      <td>3.0</td>\n",
       "      <td>1100.0</td>\n",
       "    </tr>\n",
       "    <tr>\n",
       "      <th>9999</th>\n",
       "      <td>0.0</td>\n",
       "      <td>1450.0</td>\n",
       "      <td>1.0</td>\n",
       "      <td>0.0</td>\n",
       "      <td>-1.9868</td>\n",
       "      <td>0.0</td>\n",
       "      <td>0.0</td>\n",
       "      <td>2102500.0</td>\n",
       "      <td>-249.105</td>\n",
       "      <td>0.0</td>\n",
       "      <td>1450.0</td>\n",
       "      <td>1.0</td>\n",
       "      <td>-0.7195</td>\n",
       "      <td>0.0</td>\n",
       "      <td>1450.0</td>\n",
       "    </tr>\n",
       "  </tbody>\n",
       "</table>\n",
       "<p>10000 rows × 15 columns</p>\n",
       "</div>"
      ],
      "text/plain": [
       "      years_of_experience  lesson_price  qualification  \\\n",
       "0                     0.0        1400.0            1.0   \n",
       "1                     4.0        2850.0            3.0   \n",
       "2                     0.0        1200.0            1.0   \n",
       "3                     5.0        1400.0            1.0   \n",
       "4                     1.0        1500.0            1.0   \n",
       "...                   ...           ...            ...   \n",
       "9995                  0.0        1700.0            2.0   \n",
       "9996                  0.0        1700.0            2.0   \n",
       "9997                  1.0        1250.0            1.0   \n",
       "9998                  3.0        1100.0            1.0   \n",
       "9999                  0.0        1450.0            1.0   \n",
       "\n",
       "      years_of_experience_square  years_of_experience_disp  \\\n",
       "0                            0.0                   -1.9868   \n",
       "1                           16.0                    2.0132   \n",
       "2                            0.0                   -1.9868   \n",
       "3                           25.0                    3.0132   \n",
       "4                            1.0                   -0.9868   \n",
       "...                          ...                       ...   \n",
       "9995                         0.0                   -1.9868   \n",
       "9996                         0.0                   -1.9868   \n",
       "9997                         1.0                   -0.9868   \n",
       "9998                         9.0                    1.0132   \n",
       "9999                         0.0                   -1.9868   \n",
       "\n",
       "      years_of_experience*lesson_price  years_of_experience*qualification  \\\n",
       "0                                  0.0                                0.0   \n",
       "1                              11400.0                               12.0   \n",
       "2                                  0.0                                0.0   \n",
       "3                               7000.0                                5.0   \n",
       "4                               1500.0                                1.0   \n",
       "...                                ...                                ...   \n",
       "9995                               0.0                                0.0   \n",
       "9996                               0.0                                0.0   \n",
       "9997                            1250.0                                1.0   \n",
       "9998                            3300.0                                3.0   \n",
       "9999                               0.0                                0.0   \n",
       "\n",
       "      lesson_price_square  lesson_price_disp  \\\n",
       "0               1960000.0           -299.105   \n",
       "1               8122500.0           1150.895   \n",
       "2               1440000.0           -499.105   \n",
       "3               1960000.0           -299.105   \n",
       "4               2250000.0           -199.105   \n",
       "...                   ...                ...   \n",
       "9995            2890000.0              0.895   \n",
       "9996            2890000.0              0.895   \n",
       "9997            1562500.0           -449.105   \n",
       "9998            1210000.0           -599.105   \n",
       "9999            2102500.0           -249.105   \n",
       "\n",
       "      lesson_price*years_of_experience  lesson_price*qualification  \\\n",
       "0                                  0.0                      1400.0   \n",
       "1                              11400.0                      8550.0   \n",
       "2                                  0.0                      1200.0   \n",
       "3                               7000.0                      1400.0   \n",
       "4                               1500.0                      1500.0   \n",
       "...                                ...                         ...   \n",
       "9995                               0.0                      3400.0   \n",
       "9996                               0.0                      3400.0   \n",
       "9997                            1250.0                      1250.0   \n",
       "9998                            3300.0                      1100.0   \n",
       "9999                               0.0                      1450.0   \n",
       "\n",
       "      qualification_square  qualification_disp  \\\n",
       "0                      1.0             -0.7195   \n",
       "1                      9.0              1.2805   \n",
       "2                      1.0             -0.7195   \n",
       "3                      1.0             -0.7195   \n",
       "4                      1.0             -0.7195   \n",
       "...                    ...                 ...   \n",
       "9995                   4.0              0.2805   \n",
       "9996                   4.0              0.2805   \n",
       "9997                   1.0             -0.7195   \n",
       "9998                   1.0             -0.7195   \n",
       "9999                   1.0             -0.7195   \n",
       "\n",
       "      qualification*years_of_experience  qualification*lesson_price  \n",
       "0                                   0.0                      1400.0  \n",
       "1                                  12.0                      8550.0  \n",
       "2                                   0.0                      1200.0  \n",
       "3                                   5.0                      1400.0  \n",
       "4                                   1.0                      1500.0  \n",
       "...                                 ...                         ...  \n",
       "9995                                0.0                      3400.0  \n",
       "9996                                0.0                      3400.0  \n",
       "9997                                1.0                      1250.0  \n",
       "9998                                3.0                      1100.0  \n",
       "9999                                0.0                      1450.0  \n",
       "\n",
       "[10000 rows x 15 columns]"
      ]
     },
     "execution_count": 85,
     "metadata": {},
     "output_type": "execute_result"
    }
   ],
   "source": [
    "# Просмотр данных с новыми признаками\n",
    "modif_df_train2"
   ]
  },
  {
   "cell_type": "markdown",
   "id": "4719af88",
   "metadata": {},
   "source": [
    "Графически оценим новые признаки"
   ]
  },
  {
   "cell_type": "code",
   "execution_count": 86,
   "id": "ad56e7ae",
   "metadata": {},
   "outputs": [
    {
     "data": {
      "image/png": "[encoded data removed]",
      "text/plain": [
       "<Figure size 576x432 with 1 Axes>"
      ]
     },
     "metadata": {
      "needs_background": "light"
     },
     "output_type": "display_data"
    },
    {
     "data": {
      "image/png": "[encoded data removed]",
      "text/plain": [
       "<Figure size 576x432 with 1 Axes>"
      ]
     },
     "metadata": {
      "needs_background": "light"
     },
     "output_type": "display_data"
    },
    {
     "data": {
      "image/png": "[encoded data removed]",
      "text/plain": [
       "<Figure size 576x432 with 1 Axes>"
      ]
     },
     "metadata": {
      "needs_background": "light"
     },
     "output_type": "display_data"
    },
    {
     "data": {
      "image/png": "[encoded data removed]",
      "text/plain": [
       "<Figure size 576x432 with 1 Axes>"
      ]
     },
     "metadata": {
      "needs_background": "light"
     },
     "output_type": "display_data"
    },
    {
     "data": {
      "image/png": "[encoded data removed]",
      "text/plain": [
       "<Figure size 576x432 with 1 Axes>"
      ]
     },
     "metadata": {
      "needs_background": "light"
     },
     "output_type": "display_data"
    },
    {
     "data": {
      "image/png": "[encoded data removed]",
      "text/plain": [
       "<Figure size 576x432 with 1 Axes>"
      ]
     },
     "metadata": {
      "needs_background": "light"
     },
     "output_type": "display_data"
    },
    {
     "data": {
      "image/png": "[encoded data removed]",
      "text/plain": [
       "<Figure size 576x432 with 1 Axes>"
      ]
     },
     "metadata": {
      "needs_background": "light"
     },
     "output_type": "display_data"
    },
    {
     "data": {
      "image/png": "[encoded data removed]",
      "text/plain": [
       "<Figure size 576x432 with 1 Axes>"
      ]
     },
     "metadata": {
      "needs_background": "light"
     },
     "output_type": "display_data"
    },
    {
     "data": {
      "image/png": "[encoded data removed]",
      "text/plain": [
       "<Figure size 576x432 with 1 Axes>"
      ]
     },
     "metadata": {
      "needs_background": "light"
     },
     "output_type": "display_data"
    },
    {
     "data": {
      "image/png": "[encoded data removed]",
      "text/plain": [
       "<Figure size 576x432 with 1 Axes>"
      ]
     },
     "metadata": {
      "needs_background": "light"
     },
     "output_type": "display_data"
    },
    {
     "data": {
      "image/png": "[encoded data removed]",
      "text/plain": [
       "<Figure size 576x432 with 1 Axes>"
      ]
     },
     "metadata": {
      "needs_background": "light"
     },
     "output_type": "display_data"
    },
    {
     "data": {
      "image/png": "[encoded data removed]",
      "text/plain": [
       "<Figure size 576x432 with 1 Axes>"
      ]
     },
     "metadata": {
      "needs_background": "light"
     },
     "output_type": "display_data"
    }
   ],
   "source": [
    "# Графическая оценка новых признаков\n",
    "modif_df_train2_full = modif_df_train2.copy()\n",
    "modif_df_train2_full[\"target\"] = modif_df_train[\"mean_exam_points\"]\n",
    "z = modif_df_train2_full.columns\n",
    "get_graph_dependency(modif_df_train2_full, \"target\", z[3], z[4], z[5], z[6], z[7], z[8], z[9], z[10], z[11], z[12], z[13], z[14])"
   ]
  },
  {
   "cell_type": "markdown",
   "id": "8f177a06",
   "metadata": {},
   "source": [
    "Впринципе всех их можно назвать полезными. Точнее определить полезщность для какой либо модели можно только перебором, но это будет очень долго."
   ]
  },
  {
   "cell_type": "code",
   "execution_count": 87,
   "id": "f97c29f3",
   "metadata": {},
   "outputs": [],
   "source": [
    "# Разделение учебного датасета с новыми признаками на тренеровочный и тестовый\n",
    "X_train_modif2, X_test_modif2, y_train, y_test = train_test_split(\n",
    "    modif_df_train2, \n",
    "    modif_df_train[\"mean_exam_points\"], \n",
    "    test_size=0.3, random_state=42)"
   ]
  },
  {
   "cell_type": "code",
   "execution_count": 88,
   "id": "bbbf453c",
   "metadata": {},
   "outputs": [],
   "source": [
    "# Получение нормализованных тренировачных и тестовых данных\n",
    "n_X_train_modif2 = norm(X_train_modif2)\n",
    "n_X_test_modif2 = norm(X_test_modif2)"
   ]
  },
  {
   "cell_type": "code",
   "execution_count": 102,
   "id": "4cb94109",
   "metadata": {},
   "outputs": [
    {
     "name": "stderr",
     "output_type": "stream",
     "text": [
      "100%|███████████████████████████████████████████████████████████████████████████| 30000/30000 [00:42<00:00, 710.95it/s]\n"
     ]
    },
    {
     "name": "stdout",
     "output_type": "stream",
     "text": [
      "End iteration:30000\n",
      "End MSE:110.20323501847967\n",
      "R2 for train data:0.4008463519823542\n",
      "Params: alpha=0.005, stop_value=0.0001, max_iteration=30000\n",
      "W:[ 35.18992802  90.12604296   4.72064722  -2.31384264  35.18992802\n",
      " -51.77320107   3.54758586 -49.76898474  90.12604296 -51.77320107\n",
      "  -9.92340053   4.95701516   4.72064722   3.54758586  -9.92340053]\n",
      "MSE for test data:108.24216751574359\n",
      "R2 for test data:0.4038913988649637\n"
     ]
    },
    {
     "data": {
      "text/plain": [
       "array([56.79790413, 47.52048598, 62.65593235, ..., 46.12213349,\n",
       "       80.07926194, 48.48719007])"
      ]
     },
     "execution_count": 102,
     "metadata": {},
     "output_type": "execute_result"
    }
   ],
   "source": [
    "# Проверка линейной модели на датасете с новыми признаками\n",
    "model1_m = Linear_model(alpha=0.005, iterations=30000, stop_value=0.0001, print_param=True)\n",
    "model1_m.fit(n_X_train_modif2, y_train)\n",
    "model1_m.predict(n_X_test_modif2, y_test)"
   ]
  },
  {
   "cell_type": "markdown",
   "id": "173efa80",
   "metadata": {},
   "source": [
    "Линейную модель новые признаки улучшили и теперь она упирается в колличество итераций."
   ]
  },
  {
   "cell_type": "code",
   "execution_count": 92,
   "id": "82b4d532",
   "metadata": {},
   "outputs": [
    {
     "name": "stdout",
     "output_type": "stream",
     "text": [
      "Параметры модели: \n",
      " Колличество деревьев:5\n",
      " Максимальная глубина дерева:15\n",
      " Минимальное колличество объектов в листе:10\n"
     ]
    }
   ],
   "source": [
    "# Проверка случайного леса на датасете с новыми признаками\n",
    "model2_m2 = Random_forest1(checking_main_progress=True)"
   ]
  },
  {
   "cell_type": "code",
   "execution_count": 93,
   "id": "fe7aa8a6",
   "metadata": {},
   "outputs": [
    {
     "name": "stdout",
     "output_type": "stream",
     "text": [
      "----------------Построение дерева №1--------------------------------\n",
      "\n",
      "\n",
      "----------------Дерево №1 построено--------------------------------\n",
      "\n",
      "\n",
      "Максимальная глубина: 15 | Колличество листьев: 33 | Максимум объектов в одном листе: 9077\n",
      "----------------Построение дерева №2--------------------------------\n",
      "\n",
      "\n",
      "----------------Дерево №2 построено--------------------------------\n",
      "\n",
      "\n",
      "Максимальная глубина: 15 | Колличество листьев: 50 | Максимум объектов в одном листе: 8833\n",
      "----------------Построение дерева №3--------------------------------\n",
      "\n",
      "\n",
      "----------------Дерево №3 построено--------------------------------\n",
      "\n",
      "\n",
      "Максимальная глубина: 15 | Колличество листьев: 62 | Максимум объектов в одном листе: 8477\n",
      "----------------Построение дерева №4--------------------------------\n",
      "\n",
      "\n",
      "----------------Дерево №4 построено--------------------------------\n",
      "\n",
      "\n",
      "Максимальная глубина: 15 | Колличество листьев: 50 | Максимум объектов в одном листе: 8835\n",
      "----------------Построение дерева №5--------------------------------\n",
      "\n",
      "\n",
      "----------------Дерево №5 построено--------------------------------\n",
      "\n",
      "\n",
      "Максимальная глубина: 15 | Колличество листьев: 51 | Максимум объектов в одном листе: 9028\n",
      "Обучение завершено. Расчет ошибки модели\n",
      "MSE для дерева №1 из 5 = 137.997618260835\n",
      "Коэффицент детерминации для дерева №1 из 5 = 0.24061811883743456\n",
      "\n",
      "MSE для дерева №2 из 5 = 126.03057326495951\n",
      "Коэффицент детерминации для дерева №2 из 5 = 0.31547708486951875\n",
      "\n",
      "MSE для дерева №3 из 5 = 112.37572723065132\n",
      "Коэффицент детерминации для дерева №3 из 5 = 0.3703625181339545\n",
      "\n",
      "MSE для дерева №4 из 5 = 122.05880647157406\n",
      "Коэффицент детерминации для дерева №4 из 5 = 0.31767124414173475\n",
      "\n",
      "MSE для дерева №5 из 5 = 130.40935746469538\n",
      "Коэффицент детерминации для дерева №5 из 5 = 0.27987433890344326\n",
      "\n",
      "Расчет ошибки завершен.\n",
      "Средний MSE для леса:125.77441653854305\n",
      "Средний коэффицент детерминации для леса:0.3048006609772172\n",
      "\n"
     ]
    }
   ],
   "source": [
    "model2_m.fit(modif_df_train2, modif_df_train[\"mean_exam_points\"])"
   ]
  },
  {
   "cell_type": "code",
   "execution_count": 94,
   "id": "3cbbf8f5",
   "metadata": {},
   "outputs": [
    {
     "name": "stderr",
     "output_type": "stream",
     "text": [
      "100%|████████████████████████████████████████████████████████████████████████| 10000/10000 [00:00<00:00, 526208.66it/s]\n"
     ]
    },
    {
     "data": {
      "text/plain": [
       "[61.50571719687535,\n",
       " 61.50571719687535,\n",
       " 61.50571719687535,\n",
       " 87.94117647058823,\n",
       " 86.5,\n",
       " 61.50571719687535,\n",
       " 61.50571719687535,\n",
       " 61.50571719687535,\n",
       " 61.50571719687535,\n",
       " 82.34285714285714]"
      ]
     },
     "execution_count": 94,
     "metadata": {},
     "output_type": "execute_result"
    }
   ],
   "source": [
    "# Просмотр первых 10 предсказаний случайного леса\n",
    "model2_m.predict(modif_df_test2)[:10]"
   ]
  },
  {
   "cell_type": "markdown",
   "id": "9f744b4c",
   "metadata": {},
   "source": [
    "У леса та же проблема с максимальной глубиной."
   ]
  },
  {
   "cell_type": "code",
   "execution_count": 95,
   "id": "331799fe",
   "metadata": {},
   "outputs": [],
   "source": [
    "# Проверка KNN модели на датасете с новыми признаками\n",
    "model3_m = KNN_model(X_train_modif2, y_train)"
   ]
  },
  {
   "cell_type": "code",
   "execution_count": 97,
   "id": "51528deb",
   "metadata": {},
   "outputs": [
    {
     "name": "stderr",
     "output_type": "stream",
     "text": [
      "100%|█████████████████████████████████████████████████████████████████████████████| 3000/3000 [00:13<00:00, 229.12it/s]\n"
     ]
    },
    {
     "name": "stdout",
     "output_type": "stream",
     "text": [
      "MSE для тестовой выборки: 53.97874666666673\n",
      "Коэффицент детерминации для тестовой выборки: 0.7027295747582927\n"
     ]
    },
    {
     "data": {
      "text/plain": [
       "[45.4, 62.0, 59.2, 82.6, 86.2, 51.4, 82.6, 69.8, 63.4, 72.6]"
      ]
     },
     "execution_count": 97,
     "metadata": {},
     "output_type": "execute_result"
    }
   ],
   "source": [
    "# Просмотр первых 10 предсказаний и ошибки модели\n",
    "model3_m.predict(X_test_modif2, y_test)[:10]"
   ]
  },
  {
   "cell_type": "markdown",
   "id": "7bd6a42e",
   "metadata": {},
   "source": [
    "KNN модель немного улучшилась."
   ]
  },
  {
   "cell_type": "markdown",
   "id": "7f0d2e55",
   "metadata": {},
   "source": [
    "### Работа с гиперпараметрами и получение итоговых предсказаний для df_test\n",
    "\n",
    "<b>Линейная модель</b>"
   ]
  },
  {
   "cell_type": "markdown",
   "id": "ed0cdc45",
   "metadata": {},
   "source": [
    "Так как линейная модель теперь уприается в коллиество итераций повысим их лимит допустим до 100 000. alpha выставим 0.01, Кретерий остановки снизим до 0.000001"
   ]
  },
  {
   "cell_type": "code",
   "execution_count": 105,
   "id": "8df22cef",
   "metadata": {},
   "outputs": [
    {
     "name": "stderr",
     "output_type": "stream",
     "text": [
      "100%|█████████████████████████████████████████████████████████████████████████| 100000/100000 [02:17<00:00, 725.75it/s]"
     ]
    },
    {
     "name": "stdout",
     "output_type": "stream",
     "text": [
      "End iteration:100000\n",
      "End MSE:91.01305826411037\n",
      "R2 for train data:0.5051796268318243\n",
      "Params: alpha=0.01, stop_value=1e-06, max_iteration=100000\n",
      "W:[  27.61536195  101.42937737  -19.78591171    2.59423543   27.61536195\n",
      "  -75.01636979   37.75561409 -118.38722168  101.42937737  -75.01636979\n",
      "   18.17220525   21.78628666  -19.78591171   37.75561409   18.17220525]\n"
     ]
    },
    {
     "name": "stderr",
     "output_type": "stream",
     "text": [
      "\n"
     ]
    }
   ],
   "source": [
    "# Линейная модель альфа=0.01 / максимум итераций=100 000 / критерий остановки по качеству=0.000001\n",
    "model1_m = Linear_model(alpha=0.01, iterations=100000, stop_value=0.000001, print_param=True)\n",
    "model1_m.fit(n_X_train_modif2, y_train)"
   ]
  },
  {
   "cell_type": "code",
   "execution_count": 106,
   "id": "7759749f",
   "metadata": {},
   "outputs": [
    {
     "name": "stdout",
     "output_type": "stream",
     "text": [
      "MSE for test data:122.67599275890538\n",
      "R2 for test data:0.3244017916979851\n"
     ]
    },
    {
     "data": {
      "text/plain": [
       "array([57.42565175, 47.64317498, 57.64995775, 74.01189648, 75.21240123,\n",
       "       68.36019902, 74.01189648, 61.89357676, 60.12596074, 73.15732677,\n",
       "       49.65461028, 72.63136203, 71.61102748, 47.79696112, 59.28844268,\n",
       "       54.68572746, 74.81669837, 57.06857332, 56.15182145, 55.65862389])"
      ]
     },
     "execution_count": 106,
     "metadata": {},
     "output_type": "execute_result"
    }
   ],
   "source": [
    "model1_m.predict(n_X_test_modif2, y_test)[:20]"
   ]
  },
  {
   "cell_type": "markdown",
   "id": "918ea051",
   "metadata": {},
   "source": [
    "Как видно при таких параметрах модель уже переобучается. Попробуем alpha=0.008, iterations=50000, stop_value=0.00001"
   ]
  },
  {
   "cell_type": "code",
   "execution_count": 111,
   "id": "b24a2f43",
   "metadata": {},
   "outputs": [
    {
     "name": "stderr",
     "output_type": "stream",
     "text": [
      "100%|███████████████████████████████████████████████████████████████████████████| 50000/50000 [01:10<00:00, 712.33it/s]"
     ]
    },
    {
     "name": "stdout",
     "output_type": "stream",
     "text": [
      "End iteration:50000\n",
      "End MSE:96.83083507216693\n",
      "R2 for train data:0.47354950093474857\n",
      "Params: alpha=0.008, stop_value=1e-05, max_iteration=50000\n",
      "W:[ 31.20171662  98.13952691  -5.76261094  -2.6656734   31.20171662\n",
      " -66.72623015  25.82617194 -81.80837603  98.13952691 -66.72623015\n",
      "  -2.9905461   16.7554186   -5.76261094  25.82617194  -2.9905461 ]\n",
      "MSE for test data:100.9157578442411\n",
      "R2 for test data:0.4442392219070912\n"
     ]
    },
    {
     "name": "stderr",
     "output_type": "stream",
     "text": [
      "\n"
     ]
    },
    {
     "data": {
      "text/plain": [
       "array([57.71341221, 47.60852851, 60.245175  , 79.5028279 , 83.90900424,\n",
       "       69.13097195, 79.5028279 , 65.51402454, 63.41583024, 77.26170518,\n",
       "       48.45698934, 78.11602282, 78.92500549, 46.53037898, 62.76369965,\n",
       "       54.65983638, 79.76533469, 60.0813542 , 59.0984375 , 58.63055145])"
      ]
     },
     "execution_count": 111,
     "metadata": {},
     "output_type": "execute_result"
    }
   ],
   "source": [
    "# Линейная модель альфа=0.008 / максимум итераций=50 000 / критерий остановки по качеству=0.00001\n",
    "model1_mb = Linear_model(alpha=0.008, iterations=50000, stop_value=0.00001, print_param=True)\n",
    "model1_mb.fit(n_X_train_modif2, y_train)\n",
    "model1_mb.predict(n_X_test_modif2, y_test)[:20]"
   ]
  },
  {
   "cell_type": "markdown",
   "id": "8c78cb43",
   "metadata": {},
   "source": [
    "Думаю больше уже значемого прироста качества для этой модели уже добиться не получится.\n",
    "Запишем её предсказания для тестового датасета в фаил pred_regression_model"
   ]
  },
  {
   "cell_type": "code",
   "execution_count": 120,
   "id": "6ca32c57",
   "metadata": {},
   "outputs": [],
   "source": [
    "# Нормализация датасета для которого нужно получить прогнозы с новыми признаками\n",
    "d = norm(modif_df_test2)"
   ]
  },
  {
   "cell_type": "code",
   "execution_count": 125,
   "id": "d5b32e75",
   "metadata": {},
   "outputs": [],
   "source": [
    "# Получение прогнозов\n",
    "pred_regression_model = pd.DataFrame(model1_mb.predict(d))"
   ]
  },
  {
   "cell_type": "code",
   "execution_count": 128,
   "id": "7ced46c0",
   "metadata": {},
   "outputs": [],
   "source": [
    "# запись прогнозов в соответсвующий csv фаил\n",
    "pred_regression_model.to_csv(\"pred_regression_model.csv\")"
   ]
  },
  {
   "cell_type": "markdown",
   "id": "b513b897",
   "metadata": {},
   "source": [
    "<b>Случайный лес</b>"
   ]
  },
  {
   "cell_type": "markdown",
   "id": "fdf1c6b5",
   "metadata": {},
   "source": [
    "Для случайного леса повысим максимальную глубину дерева до 50, колличество деревьев до 10 и минимальное колличество объектов в листе до 15"
   ]
  },
  {
   "cell_type": "code",
   "execution_count": 265,
   "id": "1689e90f",
   "metadata": {},
   "outputs": [
    {
     "name": "stdout",
     "output_type": "stream",
     "text": [
      "Параметры модели: \n",
      " Колличество деревьев:10\n",
      " Максимальная глубина дерева:50\n",
      " Минимальное колличество объектов в листе:15\n",
      "----------------Построение дерева №1--------------------------------\n",
      "\n",
      "\n",
      "----------------Дерево №1 построено--------------------------------\n",
      "\n",
      "\n",
      "Максимальная глубина: 50 | Колличество листьев: 225 | Максимум объектов в одном листе: 330\n",
      "----------------Построение дерева №2--------------------------------\n",
      "\n",
      "\n",
      "----------------Дерево №2 построено--------------------------------\n",
      "\n",
      "\n",
      "Максимальная глубина: 50 | Колличество листьев: 206 | Максимум объектов в одном листе: 363\n",
      "----------------Построение дерева №3--------------------------------\n",
      "\n",
      "\n",
      "----------------Дерево №3 построено--------------------------------\n",
      "\n",
      "\n",
      "Максимальная глубина: 50 | Колличество листьев: 228 | Максимум объектов в одном листе: 291\n",
      "----------------Построение дерева №4--------------------------------\n",
      "\n",
      "\n",
      "----------------Дерево №4 построено--------------------------------\n",
      "\n",
      "\n",
      "Максимальная глубина: 50 | Колличество листьев: 228 | Максимум объектов в одном листе: 310\n",
      "----------------Построение дерева №5--------------------------------\n",
      "\n",
      "\n",
      "----------------Дерево №5 построено--------------------------------\n",
      "\n",
      "\n",
      "Максимальная глубина: 50 | Колличество листьев: 224 | Максимум объектов в одном листе: 621\n",
      "----------------Построение дерева №6--------------------------------\n",
      "\n",
      "\n",
      "----------------Дерево №6 построено--------------------------------\n",
      "\n",
      "\n",
      "Максимальная глубина: 50 | Колличество листьев: 220 | Максимум объектов в одном листе: 279\n",
      "----------------Построение дерева №7--------------------------------\n",
      "\n",
      "\n",
      "----------------Дерево №7 построено--------------------------------\n",
      "\n",
      "\n",
      "Максимальная глубина: 50 | Колличество листьев: 219 | Максимум объектов в одном листе: 576\n",
      "----------------Построение дерева №8--------------------------------\n",
      "\n",
      "\n",
      "----------------Дерево №8 построено--------------------------------\n",
      "\n",
      "\n",
      "Максимальная глубина: 50 | Колличество листьев: 208 | Максимум объектов в одном листе: 682\n",
      "----------------Построение дерева №9--------------------------------\n",
      "\n",
      "\n",
      "----------------Дерево №9 построено--------------------------------\n",
      "\n",
      "\n",
      "Максимальная глубина: 50 | Колличество листьев: 227 | Максимум объектов в одном листе: 550\n",
      "----------------Построение дерева №10--------------------------------\n",
      "\n",
      "\n",
      "----------------Дерево №10 построено--------------------------------\n",
      "\n",
      "\n",
      "Максимальная глубина: 50 | Колличество листьев: 222 | Максимум объектов в одном листе: 324\n",
      "Обучение завершено. Расчет ошибки модели\n",
      "MSE для дерева №1 из 10 = 50.522070844686645\n",
      "Коэффицент детерминации для дерева №1 из 10 = 0.7192524218378642\n",
      "\n",
      "MSE для дерева №2 из 10 = 51.317764578833696\n",
      "Коэффицент детерминации для дерева №2 из 10 = 0.7217014523264129\n",
      "\n",
      "MSE для дерева №3 из 10 = 48.37775389575497\n",
      "Коэффицент детерминации для дерева №3 из 10 = 0.7375500087101543\n",
      "\n",
      "MSE для дерева №4 из 10 = 50.95511221945137\n",
      "Коэффицент детерминации для дерева №4 из 10 = 0.7260790591944736\n",
      "\n",
      "MSE для дерева №5 из 10 = 48.63584443840087\n",
      "Коэффицент детерминации для дерева №5 из 10 = 0.7383092283107302\n",
      "\n",
      "MSE для дерева №6 из 10 = 50.167893158898885\n",
      "Коэффицент детерминации для дерева №6 из 10 = 0.7189803016537293\n",
      "\n",
      "MSE для дерева №7 из 10 = 48.510054347826085\n",
      "Коэффицент детерминации для дерева №7 из 10 = 0.7315577010006896\n",
      "\n",
      "MSE для дерева №8 из 10 = 49.157808667211775\n",
      "Коэффицент детерминации для дерева №8 из 10 = 0.728844203634458\n",
      "\n",
      "MSE для дерева №9 из 10 = 49.68423927888555\n",
      "Коэффицент детерминации для дерева №9 из 10 = 0.7280183046589996\n",
      "\n",
      "MSE для дерева №10 из 10 = 49.34288052373159\n",
      "Коэффицент детерминации для дерева №10 из 10 = 0.7334363643244521\n",
      "\n",
      "Расчет ошибки завершен.\n",
      "Средний MSE для леса:49.66714219536815\n",
      "Средний коэффицент детерминации для леса:0.7283729045651965\n",
      "\n"
     ]
    }
   ],
   "source": [
    "# Случайный лес. Колличество деревьев=10 / Максимально допустимая глубина дерева=50 / Минимальное допустимое колличество объектов в узле=15\n",
    "model2_mb2 = Random_forest1(tree_counts=10, max_deep_tree=50, min_items_for_leaf=15, checking_main_progress=True)\n",
    "model2_mb2.fit(modif_df_train2, modif_df_train[\"mean_exam_points\"])"
   ]
  },
  {
   "cell_type": "code",
   "execution_count": 132,
   "id": "ca89bb23",
   "metadata": {},
   "outputs": [
    {
     "name": "stdout",
     "output_type": "stream",
     "text": [
      "Параметры модели: \n",
      " Колличество деревьев:10\n",
      " Максимальная глубина дерева:60\n",
      " Минимальное колличество объектов в листе:10\n",
      "----------------Построение дерева №1--------------------------------\n",
      "\n",
      "\n",
      "----------------Дерево №1 построено--------------------------------\n",
      "\n",
      "\n",
      "Максимальная глубина: 56 | Колличество листьев: 280 | Максимум объектов в одном листе: 330\n",
      "----------------Построение дерева №2--------------------------------\n",
      "\n",
      "\n",
      "----------------Дерево №2 построено--------------------------------\n",
      "\n",
      "\n",
      "Максимальная глубина: 60 | Колличество листьев: 257 | Максимум объектов в одном листе: 326\n",
      "----------------Построение дерева №3--------------------------------\n",
      "\n",
      "\n",
      "----------------Дерево №3 построено--------------------------------\n",
      "\n",
      "\n",
      "Максимальная глубина: 50 | Колличество листьев: 278 | Максимум объектов в одном листе: 291\n",
      "----------------Построение дерева №4--------------------------------\n",
      "\n",
      "\n",
      "----------------Дерево №4 построено--------------------------------\n",
      "\n",
      "\n",
      "Максимальная глубина: 60 | Колличество листьев: 277 | Максимум объектов в одном листе: 310\n",
      "----------------Построение дерева №5--------------------------------\n",
      "\n",
      "\n",
      "----------------Дерево №5 построено--------------------------------\n",
      "\n",
      "\n",
      "Максимальная глубина: 56 | Колличество листьев: 283 | Максимум объектов в одном листе: 621\n",
      "----------------Построение дерева №6--------------------------------\n",
      "\n",
      "\n",
      "----------------Дерево №6 построено--------------------------------\n",
      "\n",
      "\n",
      "Максимальная глубина: 59 | Колличество листьев: 275 | Максимум объектов в одном листе: 285\n",
      "----------------Построение дерева №7--------------------------------\n",
      "\n",
      "\n",
      "----------------Дерево №7 построено--------------------------------\n",
      "\n",
      "\n",
      "Максимальная глубина: 60 | Колличество листьев: 289 | Максимум объектов в одном листе: 576\n",
      "----------------Построение дерева №8--------------------------------\n",
      "\n",
      "\n",
      "----------------Дерево №8 построено--------------------------------\n",
      "\n",
      "\n",
      "Максимальная глубина: 60 | Колличество листьев: 266 | Максимум объектов в одном листе: 551\n",
      "----------------Построение дерева №9--------------------------------\n",
      "\n",
      "\n",
      "----------------Дерево №9 построено--------------------------------\n",
      "\n",
      "\n",
      "Максимальная глубина: 59 | Колличество листьев: 287 | Максимум объектов в одном листе: 550\n",
      "----------------Построение дерева №10--------------------------------\n",
      "\n",
      "\n",
      "----------------Дерево №10 построено--------------------------------\n",
      "\n",
      "\n",
      "Максимальная глубина: 57 | Колличество листьев: 289 | Максимум объектов в одном листе: 324\n",
      "Обучение завершено. Расчет ошибки модели\n",
      "MSE для дерева №1 из 10 = 50.367856452158996\n",
      "Коэффицент детерминации для дерева №1 из 10 = 0.7201093803214739\n",
      "\n",
      "MSE для дерева №2 из 10 = 51.58944966683656\n",
      "Коэффицент детерминации для дерева №2 из 10 = 0.720228091862716\n",
      "\n",
      "MSE для дерева №3 из 10 = 49.23770901306399\n",
      "Коэффицент детерминации для дерева №3 из 10 = 0.7328847401750804\n",
      "\n",
      "MSE для дерева №4 из 10 = 51.771360296911425\n",
      "Коэффицент детерминации для дерева №4 из 10 = 0.7216911296704325\n",
      "\n",
      "MSE для дерева №5 из 10 = 48.20316359188855\n",
      "Коэффицент детерминации для дерева №5 из 10 = 0.7406373175199633\n",
      "\n",
      "MSE для дерева №6 из 10 = 50.32121360588857\n",
      "Коэффицент детерминации для дерева №6 из 10 = 0.7181214641971335\n",
      "\n",
      "MSE для дерева №7 из 10 = 49.375516441766095\n",
      "Коэффицент детерминации для дерева №7 из 10 = 0.7267684539607215\n",
      "\n",
      "MSE для дерева №8 из 10 = 49.82172152661349\n",
      "Коэффицент детерминации для дерева №8 из 10 = 0.7251820424236701\n",
      "\n",
      "MSE для дерева №9 из 10 = 50.26985019279622\n",
      "Коэффицент детерминации для дерева №9 из 10 = 0.7248125506515453\n",
      "\n",
      "MSE для дерева №10 из 10 = 50.30374657902439\n",
      "Коэффицент детерминации для дерева №10 из 10 = 0.7282455050479475\n",
      "\n",
      "Расчет ошибки завершен.\n",
      "Средний MSE для леса:50.126158736694826\n",
      "Средний коэффицент детерминации для леса:0.7258680675830684\n",
      "\n"
     ]
    }
   ],
   "source": [
    "# Случайный лес. Колличество деревьев=10 / Максимально допустимая глубина дерева=50 / Минимальное допустимое колличество объектов в узле=15\n",
    "model2_mb2 = Random_forest1(tree_counts=10, max_deep_tree=60, min_items_for_leaf=10, checking_main_progress=True)\n",
    "model2_mb2.fit(modif_df_train2, modif_df_train[\"mean_exam_points\"])"
   ]
  },
  {
   "cell_type": "code",
   "execution_count": 133,
   "id": "aec7d3c6",
   "metadata": {},
   "outputs": [
    {
     "name": "stdout",
     "output_type": "stream",
     "text": [
      "Параметры модели: \n",
      " Колличество деревьев:5\n",
      " Максимальная глубина дерева:40\n",
      " Минимальное колличество объектов в листе:15\n",
      "----------------Построение дерева №1--------------------------------\n",
      "\n",
      "\n",
      "----------------Дерево №1 построено--------------------------------\n",
      "\n",
      "\n",
      "Максимальная глубина: 40 | Колличество листьев: 204 | Максимум объектов в одном листе: 697\n",
      "----------------Построение дерева №2--------------------------------\n",
      "\n",
      "\n",
      "----------------Дерево №2 построено--------------------------------\n",
      "\n",
      "\n",
      "Максимальная глубина: 40 | Колличество листьев: 182 | Максимум объектов в одном листе: 871\n",
      "----------------Построение дерева №3--------------------------------\n",
      "\n",
      "\n",
      "----------------Дерево №3 построено--------------------------------\n",
      "\n",
      "\n",
      "Максимальная глубина: 40 | Колличество листьев: 177 | Максимум объектов в одном листе: 2489\n",
      "----------------Построение дерева №4--------------------------------\n",
      "\n",
      "\n",
      "----------------Дерево №4 построено--------------------------------\n",
      "\n",
      "\n",
      "Максимальная глубина: 40 | Колличество листьев: 186 | Максимум объектов в одном листе: 1479\n",
      "----------------Построение дерева №5--------------------------------\n",
      "\n",
      "\n",
      "----------------Дерево №5 построено--------------------------------\n",
      "\n",
      "\n",
      "Максимальная глубина: 40 | Колличество листьев: 187 | Максимум объектов в одном листе: 1453\n",
      "Обучение завершено. Расчет ошибки модели\n",
      "MSE для дерева №1 из 5 = 50.49504275212793\n",
      "Коэффицент детерминации для дерева №1 из 5 = 0.720024990513336\n",
      "\n",
      "MSE для дерева №2 из 5 = 49.02379919788874\n",
      "Коэффицент детерминации для дерева №2 из 5 = 0.7361322240668\n",
      "\n",
      "MSE для дерева №3 из 5 = 58.02804408485527\n",
      "Коэффицент детерминации для дерева №3 из 5 = 0.6911091192922254\n",
      "\n",
      "MSE для дерева №4 из 5 = 55.55106527430614\n",
      "Коэффицент детерминации для дерева №4 из 5 = 0.7038542494489939\n",
      "\n",
      "MSE для дерева №5 из 5 = 54.12963245697819\n",
      "Коэффицент детерминации для дерева №5 из 5 = 0.7059348223317757\n",
      "\n",
      "Расчет ошибки завершен.\n",
      "Средний MSE для леса:53.44551675323125\n",
      "Средний коэффицент детерминации для леса:0.7114110811306262\n",
      "\n"
     ]
    }
   ],
   "source": [
    "# Случайный лес. Колличество деревьев=5 / Максимально допустимая глубина дерева=40 / Минимальное допустимое колличество объектов в узле=15\n",
    "model2_mb2 = Random_forest1(tree_counts=5, max_deep_tree=40, min_items_for_leaf=15, checking_main_progress=True)\n",
    "model2_mb2.fit(modif_df_train2, modif_df_train[\"mean_exam_points\"])"
   ]
  },
  {
   "cell_type": "markdown",
   "id": "803d249f",
   "metadata": {},
   "source": [
    "Как видно качество модели колеблется возле R2 = 0.7\n",
    "\n",
    "Глубина 60 уже много. Впринципе на 50 модель показывала хороший результат. Так как из-за долгой работы модели точнее подбирать параметры очень времязатратно. Получим предсказания от леса из 30 деревьев с максимальной глубиной 45 и максимальным числом обьектов в листе 15. "
   ]
  },
  {
   "cell_type": "code",
   "execution_count": 148,
   "id": "3eccf06d",
   "metadata": {},
   "outputs": [
    {
     "name": "stdout",
     "output_type": "stream",
     "text": [
      "Параметры модели: \n",
      " Колличество деревьев:30\n",
      " Максимальная глубина дерева:45\n",
      " Минимальное колличество объектов в листе:15\n",
      "----------------Построение дерева №1--------------------------------\n",
      "\n",
      "\n",
      "----------------Дерево №1 построено--------------------------------\n",
      "\n",
      "\n",
      "Максимальная глубина: 45 | Колличество листьев: 187 | Максимум объектов в одном листе: 1614\n",
      "----------------Построение дерева №2--------------------------------\n",
      "\n",
      "\n",
      "----------------Дерево №2 построено--------------------------------\n",
      "\n",
      "\n",
      "Максимальная глубина: 45 | Колличество листьев: 175 | Максимум объектов в одном листе: 2375\n",
      "----------------Построение дерева №3--------------------------------\n",
      "\n",
      "\n",
      "----------------Дерево №3 построено--------------------------------\n",
      "\n",
      "\n",
      "Максимальная глубина: 45 | Колличество листьев: 202 | Максимум объектов в одном листе: 602\n",
      "----------------Построение дерева №4--------------------------------\n",
      "\n",
      "\n",
      "----------------Дерево №4 построено--------------------------------\n",
      "\n",
      "\n",
      "Максимальная глубина: 45 | Колличество листьев: 211 | Максимум объектов в одном листе: 603\n",
      "----------------Построение дерева №5--------------------------------\n",
      "\n",
      "\n",
      "----------------Дерево №5 построено--------------------------------\n",
      "\n",
      "\n",
      "Максимальная глубина: 45 | Колличество листьев: 203 | Максимум объектов в одном листе: 578\n",
      "----------------Построение дерева №6--------------------------------\n",
      "\n",
      "\n",
      "----------------Дерево №6 построено--------------------------------\n",
      "\n",
      "\n",
      "Максимальная глубина: 45 | Колличество листьев: 202 | Максимум объектов в одном листе: 687\n",
      "----------------Построение дерева №7--------------------------------\n",
      "\n",
      "\n",
      "----------------Дерево №7 построено--------------------------------\n",
      "\n",
      "\n",
      "Максимальная глубина: 45 | Колличество листьев: 210 | Максимум объектов в одном листе: 555\n",
      "----------------Построение дерева №8--------------------------------\n",
      "\n",
      "\n",
      "----------------Дерево №8 построено--------------------------------\n",
      "\n",
      "\n",
      "Максимальная глубина: 45 | Колличество листьев: 211 | Максимум объектов в одном листе: 558\n",
      "----------------Построение дерева №9--------------------------------\n",
      "\n",
      "\n",
      "----------------Дерево №9 построено--------------------------------\n",
      "\n",
      "\n",
      "Максимальная глубина: 45 | Колличество листьев: 206 | Максимум объектов в одном листе: 739\n",
      "----------------Построение дерева №10--------------------------------\n",
      "\n",
      "\n",
      "----------------Дерево №10 построено--------------------------------\n",
      "\n",
      "\n",
      "Максимальная глубина: 45 | Колличество листьев: 188 | Максимум объектов в одном листе: 1100\n",
      "----------------Построение дерева №11--------------------------------\n",
      "\n",
      "\n",
      "----------------Дерево №11 построено--------------------------------\n",
      "\n",
      "\n",
      "Максимальная глубина: 45 | Колличество листьев: 191 | Максимум объектов в одном листе: 1536\n",
      "----------------Построение дерева №12--------------------------------\n",
      "\n",
      "\n",
      "----------------Дерево №12 построено--------------------------------\n",
      "\n",
      "\n",
      "Максимальная глубина: 45 | Колличество листьев: 202 | Максимум объектов в одном листе: 573\n",
      "----------------Построение дерева №13--------------------------------\n",
      "\n",
      "\n",
      "----------------Дерево №13 построено--------------------------------\n",
      "\n",
      "\n",
      "Максимальная глубина: 45 | Колличество листьев: 200 | Максимум объектов в одном листе: 730\n",
      "----------------Построение дерева №14--------------------------------\n",
      "\n",
      "\n",
      "----------------Дерево №14 построено--------------------------------\n",
      "\n",
      "\n",
      "Максимальная глубина: 45 | Колличество листьев: 199 | Максимум объектов в одном листе: 1409\n",
      "----------------Построение дерева №15--------------------------------\n",
      "\n",
      "\n",
      "----------------Дерево №15 построено--------------------------------\n",
      "\n",
      "\n",
      "Максимальная глубина: 45 | Колличество листьев: 204 | Максимум объектов в одном листе: 599\n",
      "----------------Построение дерева №16--------------------------------\n",
      "\n",
      "\n",
      "----------------Дерево №16 построено--------------------------------\n",
      "\n",
      "\n",
      "Максимальная глубина: 45 | Колличество листьев: 210 | Максимум объектов в одном листе: 478\n",
      "----------------Построение дерева №17--------------------------------\n",
      "\n",
      "\n",
      "----------------Дерево №17 построено--------------------------------\n",
      "\n",
      "\n",
      "Максимальная глубина: 45 | Колличество листьев: 195 | Максимум объектов в одном листе: 656\n",
      "----------------Построение дерева №18--------------------------------\n",
      "\n",
      "\n",
      "----------------Дерево №18 построено--------------------------------\n",
      "\n",
      "\n",
      "Максимальная глубина: 45 | Колличество листьев: 220 | Максимум объектов в одном листе: 326\n",
      "----------------Построение дерева №19--------------------------------\n",
      "\n",
      "\n",
      "----------------Дерево №19 построено--------------------------------\n",
      "\n",
      "\n",
      "Максимальная глубина: 45 | Колличество листьев: 212 | Максимум объектов в одном листе: 303\n",
      "----------------Построение дерева №20--------------------------------\n",
      "\n",
      "\n",
      "----------------Дерево №20 построено--------------------------------\n",
      "\n",
      "\n",
      "Максимальная глубина: 45 | Колличество листьев: 192 | Максимум объектов в одном листе: 839\n",
      "----------------Построение дерева №21--------------------------------\n",
      "\n",
      "\n",
      "----------------Дерево №21 построено--------------------------------\n",
      "\n",
      "\n",
      "Максимальная глубина: 45 | Колличество листьев: 214 | Максимум объектов в одном листе: 431\n",
      "----------------Построение дерева №22--------------------------------\n",
      "\n",
      "\n",
      "----------------Дерево №22 построено--------------------------------\n",
      "\n",
      "\n",
      "Максимальная глубина: 45 | Колличество листьев: 195 | Максимум объектов в одном листе: 1609\n",
      "----------------Построение дерева №23--------------------------------\n",
      "\n",
      "\n",
      "----------------Дерево №23 построено--------------------------------\n",
      "\n",
      "\n",
      "Максимальная глубина: 45 | Колличество листьев: 191 | Максимум объектов в одном листе: 1537\n",
      "----------------Построение дерева №24--------------------------------\n",
      "\n",
      "\n",
      "----------------Дерево №24 построено--------------------------------\n",
      "\n",
      "\n",
      "Максимальная глубина: 45 | Колличество листьев: 198 | Максимум объектов в одном листе: 619\n",
      "----------------Построение дерева №25--------------------------------\n",
      "\n",
      "\n",
      "----------------Дерево №25 построено--------------------------------\n",
      "\n",
      "\n",
      "Максимальная глубина: 45 | Колличество листьев: 186 | Максимум объектов в одном листе: 1112\n",
      "----------------Построение дерева №26--------------------------------\n",
      "\n",
      "\n",
      "----------------Дерево №26 построено--------------------------------\n",
      "\n",
      "\n",
      "Максимальная глубина: 45 | Колличество листьев: 227 | Максимум объектов в одном листе: 337\n",
      "----------------Построение дерева №27--------------------------------\n",
      "\n",
      "\n",
      "----------------Дерево №27 построено--------------------------------\n",
      "\n",
      "\n",
      "Максимальная глубина: 45 | Колличество листьев: 212 | Максимум объектов в одном листе: 486\n",
      "----------------Построение дерева №28--------------------------------\n",
      "\n",
      "\n",
      "----------------Дерево №28 построено--------------------------------\n",
      "\n",
      "\n",
      "Максимальная глубина: 45 | Колличество листьев: 193 | Максимум объектов в одном листе: 840\n",
      "----------------Построение дерева №29--------------------------------\n",
      "\n",
      "\n",
      "----------------Дерево №29 построено--------------------------------\n",
      "\n",
      "\n",
      "Максимальная глубина: 45 | Колличество листьев: 211 | Максимум объектов в одном листе: 560\n",
      "----------------Построение дерева №30--------------------------------\n",
      "\n",
      "\n",
      "----------------Дерево №30 построено--------------------------------\n",
      "\n",
      "\n",
      "Максимальная глубина: 45 | Колличество листьев: 203 | Максимум объектов в одном листе: 546\n",
      "Обучение завершено. Расчет ошибки модели\n",
      "MSE для дерева №1 из 30 = 54.23817204301075\n",
      "Коэффицент детерминации для дерева №1 из 30 = 0.7015348117168936\n",
      "\n",
      "MSE для дерева №2 из 30 = 57.3063284233497\n",
      "Коэффицент детерминации для дерева №2 из 30 = 0.6887461988663145\n",
      "\n",
      "MSE для дерева №3 из 30 = 49.89888556673009\n",
      "Коэффицент детерминации для дерева №3 из 30 = 0.7204181950104582\n",
      "\n",
      "MSE для дерева №4 из 30 = 49.21283422459893\n",
      "Коэффицент детерминации для дерева №4 из 30 = 0.7248921817325009\n",
      "\n",
      "MSE для дерева №5 из 30 = 48.92253136933988\n",
      "Коэффицент детерминации для дерева №5 из 30 = 0.7298478350803888\n",
      "\n",
      "MSE для дерева №6 из 30 = 46.61684782608695\n",
      "Коэффицент детерминации для дерева №6 из 30 = 0.7344933757482183\n",
      "\n",
      "MSE для дерева №7 из 30 = 51.037581699346404\n",
      "Коэффицент детерминации для дерева №7 из 30 = 0.7292382905715632\n",
      "\n",
      "MSE для дерева №8 из 30 = 48.691758241758244\n",
      "Коэффицент детерминации для дерева №8 из 30 = 0.7347276208607119\n",
      "\n",
      "MSE для дерева №9 из 30 = 51.53061775020232\n",
      "Коэффицент детерминации для дерева №9 из 30 = 0.7228121145532799\n",
      "\n",
      "MSE для дерева №10 из 30 = 52.89377682403433\n",
      "Коэффицент детерминации для дерева №10 из 30 = 0.7046585349497363\n",
      "\n"
     ]
    },
    {
     "name": "stdout",
     "output_type": "stream",
     "text": [
      "MSE для дерева №11 из 30 = 55.32632441288913\n",
      "Коэффицент детерминации для дерева №11 из 30 = 0.6929627920578583\n",
      "\n",
      "MSE для дерева №12 из 30 = 47.50257382823083\n",
      "Коэффицент детерминации для дерева №12 из 30 = 0.749404563899339\n",
      "\n",
      "MSE для дерева №13 из 30 = 49.61517688360789\n",
      "Коэффицент детерминации для дерева №13 из 30 = 0.729127112824878\n",
      "\n",
      "MSE для дерева №14 из 30 = 53.620514193893946\n",
      "Коэффицент детерминации для дерева №14 из 30 = 0.7066634660104936\n",
      "\n",
      "MSE для дерева №15 из 30 = 48.682906688687034\n",
      "Коэффицент детерминации для дерева №15 из 30 = 0.7339854808185564\n",
      "\n",
      "MSE для дерева №16 из 30 = 48.53817000541419\n",
      "Коэффицент детерминации для дерева №16 из 30 = 0.730776911293366\n",
      "\n",
      "MSE для дерева №17 из 30 = 49.56614626129827\n",
      "Коэффицент детерминации для дерева №17 из 30 = 0.7210423649566859\n",
      "\n",
      "MSE для дерева №18 из 30 = 50.42693253209506\n",
      "Коэффицент детерминации для дерева №18 из 30 = 0.7218846289737133\n",
      "\n",
      "MSE для дерева №19 из 30 = 49.231880181866806\n",
      "Коэффицент детерминации для дерева №19 из 30 = 0.7290223436766645\n",
      "\n",
      "MSE для дерева №20 из 30 = 48.541870581837955\n",
      "Коэффицент детерминации для дерева №20 из 30 = 0.734292290648249\n",
      "\n",
      "MSE для дерева №21 из 30 = 49.14086050972869\n",
      "Коэффицент детерминации для дерева №21 из 30 = 0.7277873518041358\n",
      "\n",
      "MSE для дерева №22 из 30 = 51.93426724137931\n",
      "Коэффицент детерминации для дерева №22 из 30 = 0.7182012757323963\n",
      "\n",
      "MSE для дерева №23 из 30 = 54.78712871287129\n",
      "Коэффицент детерминации для дерева №23 из 30 = 0.7038360020567935\n",
      "\n",
      "MSE для дерева №24 из 30 = 50.979729729729726\n",
      "Коэффицент детерминации для дерева №24 из 30 = 0.7160905758721835\n",
      "\n",
      "MSE для дерева №25 из 30 = 49.71008518823853\n",
      "Коэффицент детерминации для дерева №25 из 30 = 0.7301976222768785\n",
      "\n",
      "MSE для дерева №26 из 30 = 47.65765278528934\n",
      "Коэффицент детерминации для дерева №26 из 30 = 0.7363839805402551\n",
      "\n",
      "MSE для дерева №27 из 30 = 49.92093023255814\n",
      "Коэффицент детерминации для дерева №27 из 30 = 0.7184228828355754\n",
      "\n",
      "MSE для дерева №28 из 30 = 51.78701439826134\n",
      "Коэффицент детерминации для дерева №28 из 30 = 0.7151713964042606\n",
      "\n",
      "MSE для дерева №29 из 30 = 47.880387931034484\n",
      "Коэффицент детерминации для дерева №29 из 30 = 0.7399487620673346\n",
      "\n",
      "MSE для дерева №30 из 30 = 48.32475355969332\n",
      "Коэффицент детерминации для дерева №30 из 30 = 0.731860112206066\n",
      "\n",
      "Расчет ошибки завершен.\n",
      "Средний MSE для леса:50.45082132756877\n",
      "Средний коэффицент детерминации для леса:0.7226143692015249\n",
      "\n"
     ]
    }
   ],
   "source": [
    "# Обучение модели леса с вышеописанными параметрами\n",
    "model2_mb2 = Random_forest1(tree_counts=30, max_deep_tree=45, min_items_for_leaf=15, checking_main_progress=True)\n",
    "model2_mb2.fit(modif_df_train2, modif_df_train[\"mean_exam_points\"])"
   ]
  },
  {
   "cell_type": "code",
   "execution_count": 171,
   "id": "aeef0bb8",
   "metadata": {},
   "outputs": [
    {
     "name": "stdout",
     "output_type": "stream",
     "text": [
      "Получение предсказаний для дерева №1 из 30\n",
      "Получение предсказаний для дерева №2 из 30\n",
      "Получение предсказаний для дерева №3 из 30\n",
      "Получение предсказаний для дерева №4 из 30\n",
      "Получение предсказаний для дерева №5 из 30\n",
      "Получение предсказаний для дерева №6 из 30\n",
      "Получение предсказаний для дерева №7 из 30\n",
      "Получение предсказаний для дерева №8 из 30\n",
      "Получение предсказаний для дерева №9 из 30\n",
      "Получение предсказаний для дерева №10 из 30\n",
      "Получение предсказаний для дерева №11 из 30\n",
      "Получение предсказаний для дерева №12 из 30\n",
      "Получение предсказаний для дерева №13 из 30\n",
      "Получение предсказаний для дерева №14 из 30\n",
      "Получение предсказаний для дерева №15 из 30\n",
      "Получение предсказаний для дерева №16 из 30\n",
      "Получение предсказаний для дерева №17 из 30\n",
      "Получение предсказаний для дерева №18 из 30\n",
      "Получение предсказаний для дерева №19 из 30\n",
      "Получение предсказаний для дерева №20 из 30\n",
      "Получение предсказаний для дерева №21 из 30\n",
      "Получение предсказаний для дерева №22 из 30\n",
      "Получение предсказаний для дерева №23 из 30\n",
      "Получение предсказаний для дерева №24 из 30\n",
      "Получение предсказаний для дерева №25 из 30\n",
      "Получение предсказаний для дерева №26 из 30\n",
      "Получение предсказаний для дерева №27 из 30\n",
      "Получение предсказаний для дерева №28 из 30\n",
      "Получение предсказаний для дерева №29 из 30\n",
      "Получение предсказаний для дерева №30 из 30\n"
     ]
    },
    {
     "name": "stderr",
     "output_type": "stream",
     "text": [
      "100%|████████████████████████████████████████████████████████████████████████| 10000/10000 [00:00<00:00, 159989.01it/s]\n"
     ]
    }
   ],
   "source": [
    "# Получение предсказаний от леса\n",
    "pred_random_forest_model = pd.DataFrame(model2_mb2.predict(modif_df_test2)) "
   ]
  },
  {
   "cell_type": "code",
   "execution_count": 173,
   "id": "2ad26ea2",
   "metadata": {},
   "outputs": [],
   "source": [
    "# Запись предсказаний в соответствующую переменную\n",
    "pred_random_forest_model.to_csv(\"pred_random_forest_model.csv\")"
   ]
  },
  {
   "cell_type": "markdown",
   "id": "96157a41",
   "metadata": {},
   "source": [
    "<b>KNN модель</b>\n",
    "\n",
    "Тут не так много параметров. Просто попробуем различное взешивание и выберем лучший результат."
   ]
  },
  {
   "cell_type": "code",
   "execution_count": 251,
   "id": "d3a10613",
   "metadata": {},
   "outputs": [
    {
     "name": "stderr",
     "output_type": "stream",
     "text": [
      "100%|█████████████████████████████████████████████████████████████████████████████| 3000/3000 [00:27<00:00, 110.97it/s]"
     ]
    },
    {
     "name": "stdout",
     "output_type": "stream",
     "text": [
      "MSE для тестовой выборки: 54.494785475095114\n",
      "Коэффицент детерминации для тестовой выборки: 0.6998876585320781\n"
     ]
    },
    {
     "name": "stderr",
     "output_type": "stream",
     "text": [
      "\n"
     ]
    }
   ],
   "source": [
    "#Взвешивание по номеру соседа\n",
    "model3_mbb = KNN_model(X_train_modif2, y_train, count_of_neighbors=5, weighing=\"number\")                    \n",
    "x = model3_mbb.predict(X_test_modif2, y_test)"
   ]
  },
  {
   "cell_type": "code",
   "execution_count": 253,
   "id": "21c9c0f0",
   "metadata": {},
   "outputs": [
    {
     "name": "stderr",
     "output_type": "stream",
     "text": [
      "100%|█████████████████████████████████████████████████████████████████████████████| 3000/3000 [00:18<00:00, 160.38it/s]"
     ]
    },
    {
     "name": "stdout",
     "output_type": "stream",
     "text": [
      "MSE для тестовой выборки: 53.97874666666673\n",
      "Коэффицент детерминации для тестовой выборки: 0.7027295747582927\n"
     ]
    },
    {
     "name": "stderr",
     "output_type": "stream",
     "text": [
      "\n"
     ]
    }
   ],
   "source": [
    "#Без взвешивания\n",
    "model3_mbb = KNN_model(X_train_modif2, y_train, count_of_neighbors=5, weighing=None)                    \n",
    "x = model3_mbb.predict(X_test_modif2, y_test)"
   ]
  },
  {
   "cell_type": "code",
   "execution_count": 252,
   "id": "9b472193",
   "metadata": {},
   "outputs": [
    {
     "name": "stderr",
     "output_type": "stream",
     "text": [
      "100%|█████████████████████████████████████████████████████████████████████████████| 3000/3000 [00:26<00:00, 111.74it/s]"
     ]
    },
    {
     "name": "stdout",
     "output_type": "stream",
     "text": [
      "MSE для тестовой выборки: 104.33600394840643\n",
      "Коэффицент детерминации для тестовой выборки: 0.42540332673347503\n"
     ]
    },
    {
     "name": "stderr",
     "output_type": "stream",
     "text": [
      "\n"
     ]
    }
   ],
   "source": [
    "#Взвешивание по расстоянию\n",
    "model3_mbb = KNN_model(X_train_modif2, y_train, count_of_neighbors=5, weighing=\"distance\")                    \n",
    "x = model3_mbb.predict(X_test_modif2, y_test)"
   ]
  },
  {
   "cell_type": "code",
   "execution_count": 254,
   "id": "771afa50",
   "metadata": {},
   "outputs": [
    {
     "name": "stderr",
     "output_type": "stream",
     "text": [
      "100%|█████████████████████████████████████████████████████████████████████████████| 3000/3000 [00:27<00:00, 110.42it/s]"
     ]
    },
    {
     "name": "stdout",
     "output_type": "stream",
     "text": [
      "MSE для тестовой выборки: 92.0974854713946\n",
      "Коэффицент детерминации для тестовой выборки: 0.4928029945037615\n"
     ]
    },
    {
     "name": "stderr",
     "output_type": "stream",
     "text": [
      "\n"
     ]
    }
   ],
   "source": [
    "#Взвешивание по расстоянию с нормализованными данными\n",
    "model3_mbb = KNN_model(n_X_train_modif2, y_train, count_of_neighbors=5, weighing=\"distance\")                    \n",
    "x = model3_mbb.predict(n_X_test_modif2, y_test)"
   ]
  },
  {
   "cell_type": "markdown",
   "id": "b7cdf1d8",
   "metadata": {},
   "source": [
    "Модель с взвешиванием по дистанции сильно отстает. Остальные примерно на одном уровне пробуем 3\\7\\10\\15 соседей"
   ]
  },
  {
   "cell_type": "code",
   "execution_count": 255,
   "id": "fe9066bc",
   "metadata": {},
   "outputs": [
    {
     "name": "stderr",
     "output_type": "stream",
     "text": [
      "100%|█████████████████████████████████████████████████████████████████████████████| 3000/3000 [00:23<00:00, 128.63it/s]"
     ]
    },
    {
     "name": "stdout",
     "output_type": "stream",
     "text": [
      "MSE для тестовой выборки: 58.362640625\n",
      "Коэффицент детерминации для тестовой выборки: 0.678586701837291\n"
     ]
    },
    {
     "name": "stderr",
     "output_type": "stream",
     "text": [
      "\n"
     ]
    }
   ],
   "source": [
    "#Взвешивание по номеру соседа. 3 соседа.\n",
    "model3_mbb = KNN_model(X_train_modif2, y_train, count_of_neighbors=3, weighing=\"number\")                    \n",
    "x = model3_mbb.predict(X_test_modif2, y_test)"
   ]
  },
  {
   "cell_type": "code",
   "execution_count": 256,
   "id": "208e3f04",
   "metadata": {},
   "outputs": [
    {
     "name": "stderr",
     "output_type": "stream",
     "text": [
      "100%|█████████████████████████████████████████████████████████████████████████████| 3000/3000 [00:26<00:00, 111.35it/s]"
     ]
    },
    {
     "name": "stdout",
     "output_type": "stream",
     "text": [
      "MSE для тестовой выборки: 54.494785475095114\n",
      "Коэффицент детерминации для тестовой выборки: 0.6998876585320781\n"
     ]
    },
    {
     "name": "stderr",
     "output_type": "stream",
     "text": [
      "\n"
     ]
    }
   ],
   "source": [
    "#Взвешивание по номеру соседа. 7 соседей.\n",
    "model3_mbb = KNN_model(X_train_modif2, y_train, count_of_neighbors=7, weighing=\"number\")                    \n",
    "x = model3_mbb.predict(X_test_modif2, y_test)"
   ]
  },
  {
   "cell_type": "code",
   "execution_count": 257,
   "id": "fb777775",
   "metadata": {},
   "outputs": [
    {
     "name": "stderr",
     "output_type": "stream",
     "text": [
      "100%|█████████████████████████████████████████████████████████████████████████████| 3000/3000 [00:27<00:00, 110.41it/s]"
     ]
    },
    {
     "name": "stdout",
     "output_type": "stream",
     "text": [
      "MSE для тестовой выборки: 54.494785475095114\n",
      "Коэффицент детерминации для тестовой выборки: 0.6998876585320781\n"
     ]
    },
    {
     "name": "stderr",
     "output_type": "stream",
     "text": [
      "\n"
     ]
    }
   ],
   "source": [
    "#Взвешивание по номеру соседа. 10 соседей.\n",
    "model3_mbb = KNN_model(X_train_modif2, y_train, count_of_neighbors=10, weighing=\"number\")                    \n",
    "x = model3_mbb.predict(X_test_modif2, y_test)"
   ]
  },
  {
   "cell_type": "code",
   "execution_count": 259,
   "id": "4d856dde",
   "metadata": {},
   "outputs": [
    {
     "name": "stderr",
     "output_type": "stream",
     "text": [
      "100%|█████████████████████████████████████████████████████████████████████████████| 3000/3000 [00:19<00:00, 157.24it/s]"
     ]
    },
    {
     "name": "stdout",
     "output_type": "stream",
     "text": [
      "MSE для тестовой выборки: 53.97874666666673\n",
      "Коэффицент детерминации для тестовой выборки: 0.7027295747582927\n"
     ]
    },
    {
     "name": "stderr",
     "output_type": "stream",
     "text": [
      "\n"
     ]
    }
   ],
   "source": [
    "#Без взвешивания. 3 соседа.\n",
    "model3_mbb = KNN_model(X_train_modif2, y_train, count_of_neighbors=3, weighing=None)                    \n",
    "x = model3_mbb.predict(X_test_modif2, y_test)"
   ]
  },
  {
   "cell_type": "code",
   "execution_count": 260,
   "id": "c7632b8d",
   "metadata": {},
   "outputs": [
    {
     "name": "stderr",
     "output_type": "stream",
     "text": [
      "100%|█████████████████████████████████████████████████████████████████████████████| 3000/3000 [00:19<00:00, 155.17it/s]"
     ]
    },
    {
     "name": "stdout",
     "output_type": "stream",
     "text": [
      "MSE для тестовой выборки: 53.97874666666673\n",
      "Коэффицент детерминации для тестовой выборки: 0.7027295747582927\n"
     ]
    },
    {
     "name": "stderr",
     "output_type": "stream",
     "text": [
      "\n"
     ]
    }
   ],
   "source": [
    "#Без взвешивания. 7 соседей.\n",
    "model3_mbb = KNN_model(X_train_modif2, y_train, count_of_neighbors=7, weighing=None)                    \n",
    "x = model3_mbb.predict(X_test_modif2, y_test)"
   ]
  },
  {
   "cell_type": "code",
   "execution_count": 261,
   "id": "2792d821",
   "metadata": {},
   "outputs": [
    {
     "name": "stderr",
     "output_type": "stream",
     "text": [
      "100%|█████████████████████████████████████████████████████████████████████████████| 3000/3000 [00:18<00:00, 159.99it/s]"
     ]
    },
    {
     "name": "stdout",
     "output_type": "stream",
     "text": [
      "MSE для тестовой выборки: 53.97874666666673\n",
      "Коэффицент детерминации для тестовой выборки: 0.7027295747582927\n"
     ]
    },
    {
     "name": "stderr",
     "output_type": "stream",
     "text": [
      "\n"
     ]
    }
   ],
   "source": [
    "#Без взвешивания. 10 соседей.\n",
    "model3_mbb = KNN_model(X_train_modif2, y_train, count_of_neighbors=10, weighing=None)                    \n",
    "x = model3_mbb.predict(X_test_modif2, y_test)"
   ]
  },
  {
   "cell_type": "markdown",
   "id": "56c50f5c",
   "metadata": {},
   "source": [
    "Особой разницы в качестве нет. Но думаю лучше использовать модель с взвешиванием по номеру соседа с 7 соседями"
   ]
  },
  {
   "cell_type": "code",
   "execution_count": null,
   "id": "a730596a",
   "metadata": {},
   "outputs": [
    {
     "name": "stderr",
     "output_type": "stream",
     "text": [
      " 59%|████████████████████████████████████████████▊                               | 5893/10000 [00:45<00:31, 131.74it/s]"
     ]
    }
   ],
   "source": [
    "model3_mbb = KNN_model(X_train_modif2, y_train, count_of_neighbors=7, weighing=\"number\")\n",
    "pred_KNN_model = pd.DataFrame(model3_mbb.predict(modif_df_test2))"
   ]
  },
  {
   "cell_type": "code",
   "execution_count": 264,
   "id": "ddce6b9d",
   "metadata": {},
   "outputs": [],
   "source": [
    "pred_KNN_model.to_csv(\"pred_KNN_model.csv\")"
   ]
  }
 ],
 "metadata": {
  "kernelspec": {
   "display_name": "Python 3",
   "language": "python",
   "name": "python3"
  },
  "language_info": {
   "codemirror_mode": {
    "name": "ipython",
    "version": 3
   },
   "file_extension": ".py",
   "mimetype": "text/x-python",
   "name": "python",
   "nbconvert_exporter": "python",
   "pygments_lexer": "ipython3",
   "version": "3.8.8"
  }
 },
 "nbformat": 4,
 "nbformat_minor": 5
}
